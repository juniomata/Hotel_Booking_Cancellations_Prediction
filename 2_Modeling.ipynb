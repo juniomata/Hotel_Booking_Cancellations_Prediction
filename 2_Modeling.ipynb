{
 "cells": [
  {
   "cell_type": "markdown",
   "metadata": {},
   "source": [
    "<a id=\"1\"></a>\n",
    "<h1 style=\"color:Black; font-size:250%; text-align:center; border-radius: 10px; padding-top: 10px; padding-bottom: 10px\">HOTEL BOOKING CANCELLATIONS PREDICTION</h1>"
   ]
  },
  {
   "cell_type": "markdown",
   "metadata": {},
   "source": [
    "This notebook is a continuation of the previous notebook of Data Cleaning and EDA"
   ]
  },
  {
   "cell_type": "markdown",
   "metadata": {},
   "source": [
    "<a id=\"1\"></a>\n",
    "<h1 style=\"color:White; background-color:#212121; font-size:250%; text-align:center; border-radius: 10px; padding-top: 10px; padding-bottom: 10px\">1. Library and Data</h1>"
   ]
  },
  {
   "cell_type": "code",
   "execution_count": 1,
   "metadata": {},
   "outputs": [],
   "source": [
    "# Import library\n",
    "import pandas as pd\n",
    "import numpy as np\n",
    "\n",
    "import seaborn as sns\n",
    "import matplotlib.pyplot as plt\n",
    "\n",
    "from sklearn.model_selection import train_test_split\n",
    "from sklearn.preprocessing import MinMaxScaler, StandardScaler, RobustScaler\n",
    "\n",
    "from sklearn.preprocessing import OneHotEncoder, LabelEncoder\n",
    "from sklearn.compose import ColumnTransformer\n",
    "import category_encoders as ce\n",
    "from sklearn.impute import SimpleImputer\n",
    "from sklearn.experimental import enable_iterative_imputer\n",
    "from sklearn.impute import IterativeImputer\n",
    "from sklearn.impute import KNNImputer\n",
    "from sklearn.preprocessing import PolynomialFeatures\n",
    "from sklearn.preprocessing import KBinsDiscretizer\n",
    "from sklearn.pipeline import Pipeline\n",
    "from imblearn.pipeline import Pipeline\n",
    "\n",
    "from imblearn.over_sampling import RandomOverSampler, SMOTE\n",
    "from imblearn.under_sampling import RandomUnderSampler, NearMiss\n",
    "\n",
    "from sklearn.model_selection import cross_val_score, StratifiedKFold, GridSearchCV, RandomizedSearchCV\n",
    "\n",
    "from sklearn.feature_selection import SelectPercentile, RFE\n",
    "\n",
    "import statsmodels.api as sm #stats summary, simple model\n",
    "from statsmodels.api import OLS #Ordinary LS\n",
    "from statsmodels.stats.outliers_influence import variance_inflation_factor #multicol\n",
    "\n",
    "from sklearn.linear_model import LogisticRegression, LinearRegression, Lasso, Ridge\n",
    "from sklearn.neighbors import KNeighborsClassifier\n",
    "from sklearn.tree import DecisionTreeClassifier\n",
    "from sklearn.tree import plot_tree\n",
    "from sklearn.ensemble import RandomForestClassifier,GradientBoostingClassifier\n",
    "from xgboost import XGBClassifier\n",
    "\n",
    "from sklearn.metrics import accuracy_score\n",
    "from sklearn.metrics import mean_squared_error\n",
    "from sklearn.metrics import confusion_matrix, classification_report, f1_score, recall_score, precision_score\n",
    "from sklearn.metrics import plot_roc_curve, plot_precision_recall_curve\n",
    "from sklearn.metrics import classification_report, confusion_matrix, accuracy_score, precision_score, recall_score, f1_score,\\\n",
    "plot_confusion_matrix, precision_recall_curve, plot_precision_recall_curve, confusion_matrix, roc_curve, plot_roc_curve\n",
    "\n",
    "import pickle\n",
    "\n",
    "import warnings\n",
    "warnings.filterwarnings('ignore')\n",
    "\n",
    "pd.options.display.max_columns = 100"
   ]
  },
  {
   "cell_type": "code",
   "execution_count": 2,
   "metadata": {},
   "outputs": [
    {
     "data": {
      "text/html": [
       "<div>\n",
       "<style scoped>\n",
       "    .dataframe tbody tr th:only-of-type {\n",
       "        vertical-align: middle;\n",
       "    }\n",
       "\n",
       "    .dataframe tbody tr th {\n",
       "        vertical-align: top;\n",
       "    }\n",
       "\n",
       "    .dataframe thead th {\n",
       "        text-align: right;\n",
       "    }\n",
       "</style>\n",
       "<table border=\"1\" class=\"dataframe\">\n",
       "  <thead>\n",
       "    <tr style=\"text-align: right;\">\n",
       "      <th></th>\n",
       "      <th>hotel</th>\n",
       "      <th>is_canceled</th>\n",
       "      <th>lead_time</th>\n",
       "      <th>arrival_date_month</th>\n",
       "      <th>arrival_date_day_of_month</th>\n",
       "      <th>stays_in_weekend_nights</th>\n",
       "      <th>stays_in_week_nights</th>\n",
       "      <th>meal</th>\n",
       "      <th>distribution_channel</th>\n",
       "      <th>is_repeated_guest</th>\n",
       "      <th>previous_cancellations</th>\n",
       "      <th>previous_bookings_not_canceled</th>\n",
       "      <th>assigned_room_type</th>\n",
       "      <th>booking_changes</th>\n",
       "      <th>agent</th>\n",
       "      <th>days_in_waiting_list</th>\n",
       "      <th>customer_type</th>\n",
       "      <th>adr</th>\n",
       "      <th>required_car_parking_spaces</th>\n",
       "      <th>total_of_special_requests</th>\n",
       "      <th>total_guests</th>\n",
       "      <th>countries</th>\n",
       "    </tr>\n",
       "  </thead>\n",
       "  <tbody>\n",
       "    <tr>\n",
       "      <th>0</th>\n",
       "      <td>Resort Hotel</td>\n",
       "      <td>0</td>\n",
       "      <td>342</td>\n",
       "      <td>July</td>\n",
       "      <td>1</td>\n",
       "      <td>0</td>\n",
       "      <td>0</td>\n",
       "      <td>BB</td>\n",
       "      <td>Direct</td>\n",
       "      <td>0</td>\n",
       "      <td>0</td>\n",
       "      <td>0</td>\n",
       "      <td>C</td>\n",
       "      <td>3</td>\n",
       "      <td>NaN</td>\n",
       "      <td>0</td>\n",
       "      <td>Transient</td>\n",
       "      <td>0.00</td>\n",
       "      <td>0</td>\n",
       "      <td>0</td>\n",
       "      <td>2.0</td>\n",
       "      <td>PRT</td>\n",
       "    </tr>\n",
       "    <tr>\n",
       "      <th>1</th>\n",
       "      <td>Resort Hotel</td>\n",
       "      <td>0</td>\n",
       "      <td>737</td>\n",
       "      <td>July</td>\n",
       "      <td>1</td>\n",
       "      <td>0</td>\n",
       "      <td>0</td>\n",
       "      <td>BB</td>\n",
       "      <td>Direct</td>\n",
       "      <td>0</td>\n",
       "      <td>0</td>\n",
       "      <td>0</td>\n",
       "      <td>C</td>\n",
       "      <td>4</td>\n",
       "      <td>NaN</td>\n",
       "      <td>0</td>\n",
       "      <td>Transient</td>\n",
       "      <td>0.00</td>\n",
       "      <td>0</td>\n",
       "      <td>0</td>\n",
       "      <td>2.0</td>\n",
       "      <td>PRT</td>\n",
       "    </tr>\n",
       "    <tr>\n",
       "      <th>2</th>\n",
       "      <td>Resort Hotel</td>\n",
       "      <td>0</td>\n",
       "      <td>7</td>\n",
       "      <td>July</td>\n",
       "      <td>1</td>\n",
       "      <td>0</td>\n",
       "      <td>1</td>\n",
       "      <td>BB</td>\n",
       "      <td>Direct</td>\n",
       "      <td>0</td>\n",
       "      <td>0</td>\n",
       "      <td>0</td>\n",
       "      <td>C</td>\n",
       "      <td>0</td>\n",
       "      <td>NaN</td>\n",
       "      <td>0</td>\n",
       "      <td>Transient</td>\n",
       "      <td>75.00</td>\n",
       "      <td>0</td>\n",
       "      <td>0</td>\n",
       "      <td>1.0</td>\n",
       "      <td>GBR</td>\n",
       "    </tr>\n",
       "    <tr>\n",
       "      <th>3</th>\n",
       "      <td>Resort Hotel</td>\n",
       "      <td>0</td>\n",
       "      <td>13</td>\n",
       "      <td>July</td>\n",
       "      <td>1</td>\n",
       "      <td>0</td>\n",
       "      <td>1</td>\n",
       "      <td>BB</td>\n",
       "      <td>Corporate</td>\n",
       "      <td>0</td>\n",
       "      <td>0</td>\n",
       "      <td>0</td>\n",
       "      <td>A</td>\n",
       "      <td>0</td>\n",
       "      <td>304.0</td>\n",
       "      <td>0</td>\n",
       "      <td>Transient</td>\n",
       "      <td>75.00</td>\n",
       "      <td>0</td>\n",
       "      <td>0</td>\n",
       "      <td>1.0</td>\n",
       "      <td>GBR</td>\n",
       "    </tr>\n",
       "    <tr>\n",
       "      <th>4</th>\n",
       "      <td>Resort Hotel</td>\n",
       "      <td>0</td>\n",
       "      <td>14</td>\n",
       "      <td>July</td>\n",
       "      <td>1</td>\n",
       "      <td>0</td>\n",
       "      <td>2</td>\n",
       "      <td>BB</td>\n",
       "      <td>TA/TO</td>\n",
       "      <td>0</td>\n",
       "      <td>0</td>\n",
       "      <td>0</td>\n",
       "      <td>A</td>\n",
       "      <td>0</td>\n",
       "      <td>240.0</td>\n",
       "      <td>0</td>\n",
       "      <td>Transient</td>\n",
       "      <td>98.00</td>\n",
       "      <td>0</td>\n",
       "      <td>1</td>\n",
       "      <td>2.0</td>\n",
       "      <td>GBR</td>\n",
       "    </tr>\n",
       "    <tr>\n",
       "      <th>...</th>\n",
       "      <td>...</td>\n",
       "      <td>...</td>\n",
       "      <td>...</td>\n",
       "      <td>...</td>\n",
       "      <td>...</td>\n",
       "      <td>...</td>\n",
       "      <td>...</td>\n",
       "      <td>...</td>\n",
       "      <td>...</td>\n",
       "      <td>...</td>\n",
       "      <td>...</td>\n",
       "      <td>...</td>\n",
       "      <td>...</td>\n",
       "      <td>...</td>\n",
       "      <td>...</td>\n",
       "      <td>...</td>\n",
       "      <td>...</td>\n",
       "      <td>...</td>\n",
       "      <td>...</td>\n",
       "      <td>...</td>\n",
       "      <td>...</td>\n",
       "      <td>...</td>\n",
       "    </tr>\n",
       "    <tr>\n",
       "      <th>118721</th>\n",
       "      <td>City Hotel</td>\n",
       "      <td>0</td>\n",
       "      <td>23</td>\n",
       "      <td>August</td>\n",
       "      <td>30</td>\n",
       "      <td>2</td>\n",
       "      <td>5</td>\n",
       "      <td>BB</td>\n",
       "      <td>TA/TO</td>\n",
       "      <td>0</td>\n",
       "      <td>0</td>\n",
       "      <td>0</td>\n",
       "      <td>A</td>\n",
       "      <td>0</td>\n",
       "      <td>394.0</td>\n",
       "      <td>0</td>\n",
       "      <td>Transient</td>\n",
       "      <td>96.14</td>\n",
       "      <td>0</td>\n",
       "      <td>0</td>\n",
       "      <td>2.0</td>\n",
       "      <td>BEL</td>\n",
       "    </tr>\n",
       "    <tr>\n",
       "      <th>118722</th>\n",
       "      <td>City Hotel</td>\n",
       "      <td>0</td>\n",
       "      <td>102</td>\n",
       "      <td>August</td>\n",
       "      <td>31</td>\n",
       "      <td>2</td>\n",
       "      <td>5</td>\n",
       "      <td>BB</td>\n",
       "      <td>TA/TO</td>\n",
       "      <td>0</td>\n",
       "      <td>0</td>\n",
       "      <td>0</td>\n",
       "      <td>E</td>\n",
       "      <td>0</td>\n",
       "      <td>9.0</td>\n",
       "      <td>0</td>\n",
       "      <td>Transient</td>\n",
       "      <td>225.43</td>\n",
       "      <td>0</td>\n",
       "      <td>2</td>\n",
       "      <td>3.0</td>\n",
       "      <td>FRA</td>\n",
       "    </tr>\n",
       "    <tr>\n",
       "      <th>118723</th>\n",
       "      <td>City Hotel</td>\n",
       "      <td>0</td>\n",
       "      <td>34</td>\n",
       "      <td>August</td>\n",
       "      <td>31</td>\n",
       "      <td>2</td>\n",
       "      <td>5</td>\n",
       "      <td>BB</td>\n",
       "      <td>TA/TO</td>\n",
       "      <td>0</td>\n",
       "      <td>0</td>\n",
       "      <td>0</td>\n",
       "      <td>D</td>\n",
       "      <td>0</td>\n",
       "      <td>9.0</td>\n",
       "      <td>0</td>\n",
       "      <td>Transient</td>\n",
       "      <td>157.71</td>\n",
       "      <td>0</td>\n",
       "      <td>4</td>\n",
       "      <td>2.0</td>\n",
       "      <td>DEU</td>\n",
       "    </tr>\n",
       "    <tr>\n",
       "      <th>118724</th>\n",
       "      <td>City Hotel</td>\n",
       "      <td>0</td>\n",
       "      <td>109</td>\n",
       "      <td>August</td>\n",
       "      <td>31</td>\n",
       "      <td>2</td>\n",
       "      <td>5</td>\n",
       "      <td>BB</td>\n",
       "      <td>TA/TO</td>\n",
       "      <td>0</td>\n",
       "      <td>0</td>\n",
       "      <td>0</td>\n",
       "      <td>A</td>\n",
       "      <td>0</td>\n",
       "      <td>89.0</td>\n",
       "      <td>0</td>\n",
       "      <td>Transient</td>\n",
       "      <td>104.40</td>\n",
       "      <td>0</td>\n",
       "      <td>0</td>\n",
       "      <td>2.0</td>\n",
       "      <td>GBR</td>\n",
       "    </tr>\n",
       "    <tr>\n",
       "      <th>118725</th>\n",
       "      <td>City Hotel</td>\n",
       "      <td>0</td>\n",
       "      <td>205</td>\n",
       "      <td>August</td>\n",
       "      <td>29</td>\n",
       "      <td>2</td>\n",
       "      <td>7</td>\n",
       "      <td>HB</td>\n",
       "      <td>TA/TO</td>\n",
       "      <td>0</td>\n",
       "      <td>0</td>\n",
       "      <td>0</td>\n",
       "      <td>A</td>\n",
       "      <td>0</td>\n",
       "      <td>9.0</td>\n",
       "      <td>0</td>\n",
       "      <td>Transient</td>\n",
       "      <td>151.20</td>\n",
       "      <td>0</td>\n",
       "      <td>2</td>\n",
       "      <td>2.0</td>\n",
       "      <td>DEU</td>\n",
       "    </tr>\n",
       "  </tbody>\n",
       "</table>\n",
       "<p>118726 rows × 22 columns</p>\n",
       "</div>"
      ],
      "text/plain": [
       "               hotel  is_canceled  lead_time arrival_date_month  \\\n",
       "0       Resort Hotel            0        342               July   \n",
       "1       Resort Hotel            0        737               July   \n",
       "2       Resort Hotel            0          7               July   \n",
       "3       Resort Hotel            0         13               July   \n",
       "4       Resort Hotel            0         14               July   \n",
       "...              ...          ...        ...                ...   \n",
       "118721    City Hotel            0         23             August   \n",
       "118722    City Hotel            0        102             August   \n",
       "118723    City Hotel            0         34             August   \n",
       "118724    City Hotel            0        109             August   \n",
       "118725    City Hotel            0        205             August   \n",
       "\n",
       "        arrival_date_day_of_month  stays_in_weekend_nights  \\\n",
       "0                               1                        0   \n",
       "1                               1                        0   \n",
       "2                               1                        0   \n",
       "3                               1                        0   \n",
       "4                               1                        0   \n",
       "...                           ...                      ...   \n",
       "118721                         30                        2   \n",
       "118722                         31                        2   \n",
       "118723                         31                        2   \n",
       "118724                         31                        2   \n",
       "118725                         29                        2   \n",
       "\n",
       "        stays_in_week_nights meal distribution_channel  is_repeated_guest  \\\n",
       "0                          0   BB               Direct                  0   \n",
       "1                          0   BB               Direct                  0   \n",
       "2                          1   BB               Direct                  0   \n",
       "3                          1   BB            Corporate                  0   \n",
       "4                          2   BB                TA/TO                  0   \n",
       "...                      ...  ...                  ...                ...   \n",
       "118721                     5   BB                TA/TO                  0   \n",
       "118722                     5   BB                TA/TO                  0   \n",
       "118723                     5   BB                TA/TO                  0   \n",
       "118724                     5   BB                TA/TO                  0   \n",
       "118725                     7   HB                TA/TO                  0   \n",
       "\n",
       "        previous_cancellations  previous_bookings_not_canceled  \\\n",
       "0                            0                               0   \n",
       "1                            0                               0   \n",
       "2                            0                               0   \n",
       "3                            0                               0   \n",
       "4                            0                               0   \n",
       "...                        ...                             ...   \n",
       "118721                       0                               0   \n",
       "118722                       0                               0   \n",
       "118723                       0                               0   \n",
       "118724                       0                               0   \n",
       "118725                       0                               0   \n",
       "\n",
       "       assigned_room_type  booking_changes  agent  days_in_waiting_list  \\\n",
       "0                       C                3    NaN                     0   \n",
       "1                       C                4    NaN                     0   \n",
       "2                       C                0    NaN                     0   \n",
       "3                       A                0  304.0                     0   \n",
       "4                       A                0  240.0                     0   \n",
       "...                   ...              ...    ...                   ...   \n",
       "118721                  A                0  394.0                     0   \n",
       "118722                  E                0    9.0                     0   \n",
       "118723                  D                0    9.0                     0   \n",
       "118724                  A                0   89.0                     0   \n",
       "118725                  A                0    9.0                     0   \n",
       "\n",
       "       customer_type     adr  required_car_parking_spaces  \\\n",
       "0          Transient    0.00                            0   \n",
       "1          Transient    0.00                            0   \n",
       "2          Transient   75.00                            0   \n",
       "3          Transient   75.00                            0   \n",
       "4          Transient   98.00                            0   \n",
       "...              ...     ...                          ...   \n",
       "118721     Transient   96.14                            0   \n",
       "118722     Transient  225.43                            0   \n",
       "118723     Transient  157.71                            0   \n",
       "118724     Transient  104.40                            0   \n",
       "118725     Transient  151.20                            0   \n",
       "\n",
       "        total_of_special_requests  total_guests countries  \n",
       "0                               0           2.0       PRT  \n",
       "1                               0           2.0       PRT  \n",
       "2                               0           1.0       GBR  \n",
       "3                               0           1.0       GBR  \n",
       "4                               1           2.0       GBR  \n",
       "...                           ...           ...       ...  \n",
       "118721                          0           2.0       BEL  \n",
       "118722                          2           3.0       FRA  \n",
       "118723                          4           2.0       DEU  \n",
       "118724                          0           2.0       GBR  \n",
       "118725                          2           2.0       DEU  \n",
       "\n",
       "[118726 rows x 22 columns]"
      ]
     },
     "execution_count": 2,
     "metadata": {},
     "output_type": "execute_result"
    }
   ],
   "source": [
    "df_modeling = pd.read_csv('df_for_modeling.csv')\n",
    "df_modeling = df_modeling.drop(columns=['Unnamed: 0'])\n",
    "df_modeling"
   ]
  },
  {
   "cell_type": "code",
   "execution_count": 3,
   "metadata": {},
   "outputs": [
    {
     "data": {
      "text/html": [
       "<div>\n",
       "<style scoped>\n",
       "    .dataframe tbody tr th:only-of-type {\n",
       "        vertical-align: middle;\n",
       "    }\n",
       "\n",
       "    .dataframe tbody tr th {\n",
       "        vertical-align: top;\n",
       "    }\n",
       "\n",
       "    .dataframe thead th {\n",
       "        text-align: right;\n",
       "    }\n",
       "</style>\n",
       "<table border=\"1\" class=\"dataframe\">\n",
       "  <thead>\n",
       "    <tr style=\"text-align: right;\">\n",
       "      <th></th>\n",
       "      <th>Column</th>\n",
       "      <th>d_type</th>\n",
       "      <th>unique_sample</th>\n",
       "      <th>n_uniques</th>\n",
       "    </tr>\n",
       "  </thead>\n",
       "  <tbody>\n",
       "    <tr>\n",
       "      <th>0</th>\n",
       "      <td>hotel</td>\n",
       "      <td>object</td>\n",
       "      <td>[Resort Hotel, City Hotel]</td>\n",
       "      <td>2</td>\n",
       "    </tr>\n",
       "    <tr>\n",
       "      <th>1</th>\n",
       "      <td>is_canceled</td>\n",
       "      <td>int64</td>\n",
       "      <td>[0, 1]</td>\n",
       "      <td>2</td>\n",
       "    </tr>\n",
       "    <tr>\n",
       "      <th>2</th>\n",
       "      <td>lead_time</td>\n",
       "      <td>int64</td>\n",
       "      <td>[342, 737, 7, 13, 14]</td>\n",
       "      <td>479</td>\n",
       "    </tr>\n",
       "    <tr>\n",
       "      <th>3</th>\n",
       "      <td>arrival_date_month</td>\n",
       "      <td>object</td>\n",
       "      <td>[July, August, September, October, November]</td>\n",
       "      <td>12</td>\n",
       "    </tr>\n",
       "    <tr>\n",
       "      <th>4</th>\n",
       "      <td>arrival_date_day_of_month</td>\n",
       "      <td>int64</td>\n",
       "      <td>[1, 2, 3, 4, 5]</td>\n",
       "      <td>31</td>\n",
       "    </tr>\n",
       "    <tr>\n",
       "      <th>5</th>\n",
       "      <td>stays_in_weekend_nights</td>\n",
       "      <td>int64</td>\n",
       "      <td>[0, 1, 2, 4, 3]</td>\n",
       "      <td>15</td>\n",
       "    </tr>\n",
       "    <tr>\n",
       "      <th>6</th>\n",
       "      <td>stays_in_week_nights</td>\n",
       "      <td>int64</td>\n",
       "      <td>[0, 1, 2, 3, 4]</td>\n",
       "      <td>31</td>\n",
       "    </tr>\n",
       "    <tr>\n",
       "      <th>7</th>\n",
       "      <td>meal</td>\n",
       "      <td>object</td>\n",
       "      <td>[BB, FB, HB, SC, Undefined]</td>\n",
       "      <td>5</td>\n",
       "    </tr>\n",
       "    <tr>\n",
       "      <th>8</th>\n",
       "      <td>distribution_channel</td>\n",
       "      <td>object</td>\n",
       "      <td>[Direct, Corporate, TA/TO, GDS]</td>\n",
       "      <td>4</td>\n",
       "    </tr>\n",
       "    <tr>\n",
       "      <th>9</th>\n",
       "      <td>is_repeated_guest</td>\n",
       "      <td>int64</td>\n",
       "      <td>[0, 1]</td>\n",
       "      <td>2</td>\n",
       "    </tr>\n",
       "    <tr>\n",
       "      <th>10</th>\n",
       "      <td>previous_cancellations</td>\n",
       "      <td>int64</td>\n",
       "      <td>[0, 1, 2, 3, 26]</td>\n",
       "      <td>15</td>\n",
       "    </tr>\n",
       "    <tr>\n",
       "      <th>11</th>\n",
       "      <td>previous_bookings_not_canceled</td>\n",
       "      <td>int64</td>\n",
       "      <td>[0, 1, 2, 3, 5]</td>\n",
       "      <td>73</td>\n",
       "    </tr>\n",
       "    <tr>\n",
       "      <th>12</th>\n",
       "      <td>assigned_room_type</td>\n",
       "      <td>object</td>\n",
       "      <td>[C, A, D, E, G]</td>\n",
       "      <td>11</td>\n",
       "    </tr>\n",
       "    <tr>\n",
       "      <th>13</th>\n",
       "      <td>booking_changes</td>\n",
       "      <td>int64</td>\n",
       "      <td>[3, 4, 0, 1, 2]</td>\n",
       "      <td>19</td>\n",
       "    </tr>\n",
       "    <tr>\n",
       "      <th>14</th>\n",
       "      <td>agent</td>\n",
       "      <td>float64</td>\n",
       "      <td>[nan, 304.0, 240.0, 303.0, 15.0]</td>\n",
       "      <td>332</td>\n",
       "    </tr>\n",
       "    <tr>\n",
       "      <th>15</th>\n",
       "      <td>days_in_waiting_list</td>\n",
       "      <td>int64</td>\n",
       "      <td>[0, 50, 47, 65, 122]</td>\n",
       "      <td>127</td>\n",
       "    </tr>\n",
       "    <tr>\n",
       "      <th>16</th>\n",
       "      <td>customer_type</td>\n",
       "      <td>object</td>\n",
       "      <td>[Transient, Contract, Transient-Party, Group]</td>\n",
       "      <td>4</td>\n",
       "    </tr>\n",
       "    <tr>\n",
       "      <th>17</th>\n",
       "      <td>adr</td>\n",
       "      <td>float64</td>\n",
       "      <td>[0.0, 75.0, 98.0, 107.0, 103.0]</td>\n",
       "      <td>8856</td>\n",
       "    </tr>\n",
       "    <tr>\n",
       "      <th>18</th>\n",
       "      <td>required_car_parking_spaces</td>\n",
       "      <td>int64</td>\n",
       "      <td>[0, 1, 2, 8, 3]</td>\n",
       "      <td>5</td>\n",
       "    </tr>\n",
       "    <tr>\n",
       "      <th>19</th>\n",
       "      <td>total_of_special_requests</td>\n",
       "      <td>int64</td>\n",
       "      <td>[0, 1, 3, 2, 4]</td>\n",
       "      <td>6</td>\n",
       "    </tr>\n",
       "    <tr>\n",
       "      <th>20</th>\n",
       "      <td>total_guests</td>\n",
       "      <td>float64</td>\n",
       "      <td>[2.0, 1.0, 3.0, 4.0, 5.0]</td>\n",
       "      <td>14</td>\n",
       "    </tr>\n",
       "    <tr>\n",
       "      <th>21</th>\n",
       "      <td>countries</td>\n",
       "      <td>object</td>\n",
       "      <td>[PRT, GBR, USA, ESP, IRL]</td>\n",
       "      <td>16</td>\n",
       "    </tr>\n",
       "  </tbody>\n",
       "</table>\n",
       "</div>"
      ],
      "text/plain": [
       "                            Column   d_type  \\\n",
       "0                            hotel   object   \n",
       "1                      is_canceled    int64   \n",
       "2                        lead_time    int64   \n",
       "3               arrival_date_month   object   \n",
       "4        arrival_date_day_of_month    int64   \n",
       "5          stays_in_weekend_nights    int64   \n",
       "6             stays_in_week_nights    int64   \n",
       "7                             meal   object   \n",
       "8             distribution_channel   object   \n",
       "9                is_repeated_guest    int64   \n",
       "10          previous_cancellations    int64   \n",
       "11  previous_bookings_not_canceled    int64   \n",
       "12              assigned_room_type   object   \n",
       "13                 booking_changes    int64   \n",
       "14                           agent  float64   \n",
       "15            days_in_waiting_list    int64   \n",
       "16                   customer_type   object   \n",
       "17                             adr  float64   \n",
       "18     required_car_parking_spaces    int64   \n",
       "19       total_of_special_requests    int64   \n",
       "20                    total_guests  float64   \n",
       "21                       countries   object   \n",
       "\n",
       "                                    unique_sample  n_uniques  \n",
       "0                      [Resort Hotel, City Hotel]          2  \n",
       "1                                          [0, 1]          2  \n",
       "2                           [342, 737, 7, 13, 14]        479  \n",
       "3    [July, August, September, October, November]         12  \n",
       "4                                 [1, 2, 3, 4, 5]         31  \n",
       "5                                 [0, 1, 2, 4, 3]         15  \n",
       "6                                 [0, 1, 2, 3, 4]         31  \n",
       "7                     [BB, FB, HB, SC, Undefined]          5  \n",
       "8                 [Direct, Corporate, TA/TO, GDS]          4  \n",
       "9                                          [0, 1]          2  \n",
       "10                               [0, 1, 2, 3, 26]         15  \n",
       "11                                [0, 1, 2, 3, 5]         73  \n",
       "12                                [C, A, D, E, G]         11  \n",
       "13                                [3, 4, 0, 1, 2]         19  \n",
       "14               [nan, 304.0, 240.0, 303.0, 15.0]        332  \n",
       "15                           [0, 50, 47, 65, 122]        127  \n",
       "16  [Transient, Contract, Transient-Party, Group]          4  \n",
       "17                [0.0, 75.0, 98.0, 107.0, 103.0]       8856  \n",
       "18                                [0, 1, 2, 8, 3]          5  \n",
       "19                                [0, 1, 3, 2, 4]          6  \n",
       "20                      [2.0, 1.0, 3.0, 4.0, 5.0]         14  \n",
       "21                      [PRT, GBR, USA, ESP, IRL]         16  "
      ]
     },
     "execution_count": 3,
     "metadata": {},
     "output_type": "execute_result"
    }
   ],
   "source": [
    "def report(df_modeling):\n",
    "    col = []\n",
    "    d_type = []\n",
    "    uniques = []\n",
    "    n_uniques = []\n",
    "    \n",
    "    for i in df_modeling .columns:\n",
    "        col.append(i)\n",
    "        d_type.append(df_modeling [i].dtypes)\n",
    "        uniques.append(df_modeling [i].unique()[:5])\n",
    "        n_uniques.append(df_modeling [i].nunique())\n",
    "    \n",
    "    return pd.DataFrame({'Column': col, 'd_type': d_type, 'unique_sample': uniques, 'n_uniques': n_uniques})\n",
    "\n",
    "report(df_modeling)"
   ]
  },
  {
   "cell_type": "markdown",
   "metadata": {},
   "source": [
    "<a id=\"1\"></a>\n",
    "<h1 style=\"color:White; background-color:#212121; font-size:250%; text-align:center; border-radius: 10px; padding-top: 10px; padding-bottom: 10px\">2. Modeling</h1>"
   ]
  },
  {
   "cell_type": "markdown",
   "metadata": {},
   "source": [
    "## 2.1 Splitting"
   ]
  },
  {
   "cell_type": "code",
   "execution_count": 4,
   "metadata": {},
   "outputs": [
    {
     "data": {
      "text/html": [
       "<div>\n",
       "<style scoped>\n",
       "    .dataframe tbody tr th:only-of-type {\n",
       "        vertical-align: middle;\n",
       "    }\n",
       "\n",
       "    .dataframe tbody tr th {\n",
       "        vertical-align: top;\n",
       "    }\n",
       "\n",
       "    .dataframe thead th {\n",
       "        text-align: right;\n",
       "    }\n",
       "</style>\n",
       "<table border=\"1\" class=\"dataframe\">\n",
       "  <thead>\n",
       "    <tr style=\"text-align: right;\">\n",
       "      <th></th>\n",
       "      <th>hotel</th>\n",
       "      <th>lead_time</th>\n",
       "      <th>arrival_date_month</th>\n",
       "      <th>arrival_date_day_of_month</th>\n",
       "      <th>stays_in_weekend_nights</th>\n",
       "      <th>stays_in_week_nights</th>\n",
       "      <th>meal</th>\n",
       "      <th>distribution_channel</th>\n",
       "      <th>is_repeated_guest</th>\n",
       "      <th>previous_cancellations</th>\n",
       "      <th>previous_bookings_not_canceled</th>\n",
       "      <th>assigned_room_type</th>\n",
       "      <th>booking_changes</th>\n",
       "      <th>agent</th>\n",
       "      <th>days_in_waiting_list</th>\n",
       "      <th>customer_type</th>\n",
       "      <th>adr</th>\n",
       "      <th>required_car_parking_spaces</th>\n",
       "      <th>total_of_special_requests</th>\n",
       "      <th>total_guests</th>\n",
       "      <th>countries</th>\n",
       "    </tr>\n",
       "  </thead>\n",
       "  <tbody>\n",
       "    <tr>\n",
       "      <th>0</th>\n",
       "      <td>Resort Hotel</td>\n",
       "      <td>342</td>\n",
       "      <td>July</td>\n",
       "      <td>1</td>\n",
       "      <td>0</td>\n",
       "      <td>0</td>\n",
       "      <td>BB</td>\n",
       "      <td>Direct</td>\n",
       "      <td>0</td>\n",
       "      <td>0</td>\n",
       "      <td>0</td>\n",
       "      <td>C</td>\n",
       "      <td>3</td>\n",
       "      <td>NaN</td>\n",
       "      <td>0</td>\n",
       "      <td>Transient</td>\n",
       "      <td>0.0</td>\n",
       "      <td>0</td>\n",
       "      <td>0</td>\n",
       "      <td>2.0</td>\n",
       "      <td>PRT</td>\n",
       "    </tr>\n",
       "    <tr>\n",
       "      <th>1</th>\n",
       "      <td>Resort Hotel</td>\n",
       "      <td>737</td>\n",
       "      <td>July</td>\n",
       "      <td>1</td>\n",
       "      <td>0</td>\n",
       "      <td>0</td>\n",
       "      <td>BB</td>\n",
       "      <td>Direct</td>\n",
       "      <td>0</td>\n",
       "      <td>0</td>\n",
       "      <td>0</td>\n",
       "      <td>C</td>\n",
       "      <td>4</td>\n",
       "      <td>NaN</td>\n",
       "      <td>0</td>\n",
       "      <td>Transient</td>\n",
       "      <td>0.0</td>\n",
       "      <td>0</td>\n",
       "      <td>0</td>\n",
       "      <td>2.0</td>\n",
       "      <td>PRT</td>\n",
       "    </tr>\n",
       "    <tr>\n",
       "      <th>2</th>\n",
       "      <td>Resort Hotel</td>\n",
       "      <td>7</td>\n",
       "      <td>July</td>\n",
       "      <td>1</td>\n",
       "      <td>0</td>\n",
       "      <td>1</td>\n",
       "      <td>BB</td>\n",
       "      <td>Direct</td>\n",
       "      <td>0</td>\n",
       "      <td>0</td>\n",
       "      <td>0</td>\n",
       "      <td>C</td>\n",
       "      <td>0</td>\n",
       "      <td>NaN</td>\n",
       "      <td>0</td>\n",
       "      <td>Transient</td>\n",
       "      <td>75.0</td>\n",
       "      <td>0</td>\n",
       "      <td>0</td>\n",
       "      <td>1.0</td>\n",
       "      <td>GBR</td>\n",
       "    </tr>\n",
       "    <tr>\n",
       "      <th>3</th>\n",
       "      <td>Resort Hotel</td>\n",
       "      <td>13</td>\n",
       "      <td>July</td>\n",
       "      <td>1</td>\n",
       "      <td>0</td>\n",
       "      <td>1</td>\n",
       "      <td>BB</td>\n",
       "      <td>Corporate</td>\n",
       "      <td>0</td>\n",
       "      <td>0</td>\n",
       "      <td>0</td>\n",
       "      <td>A</td>\n",
       "      <td>0</td>\n",
       "      <td>304.0</td>\n",
       "      <td>0</td>\n",
       "      <td>Transient</td>\n",
       "      <td>75.0</td>\n",
       "      <td>0</td>\n",
       "      <td>0</td>\n",
       "      <td>1.0</td>\n",
       "      <td>GBR</td>\n",
       "    </tr>\n",
       "    <tr>\n",
       "      <th>4</th>\n",
       "      <td>Resort Hotel</td>\n",
       "      <td>14</td>\n",
       "      <td>July</td>\n",
       "      <td>1</td>\n",
       "      <td>0</td>\n",
       "      <td>2</td>\n",
       "      <td>BB</td>\n",
       "      <td>TA/TO</td>\n",
       "      <td>0</td>\n",
       "      <td>0</td>\n",
       "      <td>0</td>\n",
       "      <td>A</td>\n",
       "      <td>0</td>\n",
       "      <td>240.0</td>\n",
       "      <td>0</td>\n",
       "      <td>Transient</td>\n",
       "      <td>98.0</td>\n",
       "      <td>0</td>\n",
       "      <td>1</td>\n",
       "      <td>2.0</td>\n",
       "      <td>GBR</td>\n",
       "    </tr>\n",
       "  </tbody>\n",
       "</table>\n",
       "</div>"
      ],
      "text/plain": [
       "          hotel  lead_time arrival_date_month  arrival_date_day_of_month  \\\n",
       "0  Resort Hotel        342               July                          1   \n",
       "1  Resort Hotel        737               July                          1   \n",
       "2  Resort Hotel          7               July                          1   \n",
       "3  Resort Hotel         13               July                          1   \n",
       "4  Resort Hotel         14               July                          1   \n",
       "\n",
       "   stays_in_weekend_nights  stays_in_week_nights meal distribution_channel  \\\n",
       "0                        0                     0   BB               Direct   \n",
       "1                        0                     0   BB               Direct   \n",
       "2                        0                     1   BB               Direct   \n",
       "3                        0                     1   BB            Corporate   \n",
       "4                        0                     2   BB                TA/TO   \n",
       "\n",
       "   is_repeated_guest  previous_cancellations  previous_bookings_not_canceled  \\\n",
       "0                  0                       0                               0   \n",
       "1                  0                       0                               0   \n",
       "2                  0                       0                               0   \n",
       "3                  0                       0                               0   \n",
       "4                  0                       0                               0   \n",
       "\n",
       "  assigned_room_type  booking_changes  agent  days_in_waiting_list  \\\n",
       "0                  C                3    NaN                     0   \n",
       "1                  C                4    NaN                     0   \n",
       "2                  C                0    NaN                     0   \n",
       "3                  A                0  304.0                     0   \n",
       "4                  A                0  240.0                     0   \n",
       "\n",
       "  customer_type   adr  required_car_parking_spaces  total_of_special_requests  \\\n",
       "0     Transient   0.0                            0                          0   \n",
       "1     Transient   0.0                            0                          0   \n",
       "2     Transient  75.0                            0                          0   \n",
       "3     Transient  75.0                            0                          0   \n",
       "4     Transient  98.0                            0                          1   \n",
       "\n",
       "   total_guests countries  \n",
       "0           2.0       PRT  \n",
       "1           2.0       PRT  \n",
       "2           1.0       GBR  \n",
       "3           1.0       GBR  \n",
       "4           2.0       GBR  "
      ]
     },
     "execution_count": 4,
     "metadata": {},
     "output_type": "execute_result"
    }
   ],
   "source": [
    "X = df_modeling.drop(columns = ['is_canceled'])\n",
    "y = df_modeling['is_canceled']\n",
    "X.head()"
   ]
  },
  {
   "cell_type": "code",
   "execution_count": 5,
   "metadata": {},
   "outputs": [],
   "source": [
    "X_train, X_test, y_train, y_test = train_test_split(X,\n",
    "                                                    y,\n",
    "                                                    stratify = y,\n",
    "                                                    test_size = 0.2,\n",
    "                                                    random_state = 2020)"
   ]
  },
  {
   "cell_type": "markdown",
   "metadata": {},
   "source": [
    "## 2.2 Pipeline"
   ]
  },
  {
   "cell_type": "code",
   "execution_count": 6,
   "metadata": {},
   "outputs": [],
   "source": [
    "smote = SMOTE()"
   ]
  },
  {
   "cell_type": "code",
   "execution_count": 7,
   "metadata": {},
   "outputs": [
    {
     "data": {
      "text/plain": [
       "['is_canceled',\n",
       " 'lead_time',\n",
       " 'arrival_date_day_of_month',\n",
       " 'stays_in_weekend_nights',\n",
       " 'stays_in_week_nights',\n",
       " 'is_repeated_guest',\n",
       " 'previous_cancellations',\n",
       " 'previous_bookings_not_canceled',\n",
       " 'booking_changes',\n",
       " 'agent',\n",
       " 'days_in_waiting_list',\n",
       " 'adr',\n",
       " 'required_car_parking_spaces',\n",
       " 'total_of_special_requests',\n",
       " 'total_guests']"
      ]
     },
     "execution_count": 7,
     "metadata": {},
     "output_type": "execute_result"
    }
   ],
   "source": [
    "df_modeling.select_dtypes(include=['int64','float64']).columns.to_list()"
   ]
  },
  {
   "cell_type": "code",
   "execution_count": 8,
   "metadata": {},
   "outputs": [
    {
     "data": {
      "text/plain": [
       "['hotel',\n",
       " 'arrival_date_month',\n",
       " 'meal',\n",
       " 'distribution_channel',\n",
       " 'assigned_room_type',\n",
       " 'customer_type',\n",
       " 'countries']"
      ]
     },
     "execution_count": 8,
     "metadata": {},
     "output_type": "execute_result"
    }
   ],
   "source": [
    "df_modeling.select_dtypes(include=['object']).columns.to_list()"
   ]
  },
  {
   "cell_type": "code",
   "execution_count": 7,
   "metadata": {},
   "outputs": [],
   "source": [
    "# Split numerical and categorical data\n",
    "num = ['lead_time','arrival_date_day_of_month','stays_in_weekend_nights', 'stays_in_week_nights','previous_cancellations','previous_bookings_not_canceled', 'booking_changes','days_in_waiting_list', 'adr', 'required_car_parking_spaces','total_of_special_requests','total_guests']\n",
    "cat = ['hotel','arrival_date_month','meal','distribution_channel','is_repeated_guest','assigned_room_type','agent','customer_type','countries']\n",
    "\n",
    "# Make pipeline for categorical features\n",
    "cat_scalerencoder_pipe = Pipeline([\n",
    "    ('imputer',SimpleImputer(strategy = 'constant',fill_value = 0)),\n",
    "    ('binary encoder',ce.BinaryEncoder())\n",
    "])\n",
    "\n",
    "# Make pipeline for numerical features\n",
    "num_scaler_pipe = Pipeline([\n",
    "    ('robust scaler', RobustScaler())\n",
    "])\n",
    "\n",
    "# Column Transformer\n",
    "transformer = ColumnTransformer([\n",
    "    ('cat pipe', cat_scalerencoder_pipe,cat),\n",
    "    ('num pipe', num_scaler_pipe,num)], \n",
    "    remainder = 'passthrough')"
   ]
  },
  {
   "cell_type": "markdown",
   "metadata": {},
   "source": [
    "> ## 2.3 Modeling with Default Parameters"
   ]
  },
  {
   "cell_type": "markdown",
   "metadata": {},
   "source": [
    "> ### 2.3.1 Model assignment"
   ]
  },
  {
   "cell_type": "code",
   "execution_count": 8,
   "metadata": {},
   "outputs": [],
   "source": [
    "# Model assignment\n",
    "logreg = LogisticRegression()\n",
    "dtc = DecisionTreeClassifier()\n",
    "rfc = RandomForestClassifier()\n",
    "gbc = GradientBoostingClassifier()\n",
    "xgbc = XGBClassifier()\n",
    "knn = KNeighborsClassifier()\n",
    "\n",
    "models = [logreg, dtc, rfc, gbc, xgbc, knn]\n",
    "model_name = ['LogisticRegression', 'DecisionTreeClassifier', 'RandomForestClassifier', 'GradientBoostingClassifier', \n",
    "              'XGBClassifier','KNeighborsClassifier']"
   ]
  },
  {
   "cell_type": "code",
   "execution_count": 9,
   "metadata": {},
   "outputs": [],
   "source": [
    "# Combine all pipeline. Assign in to a list\n",
    "all_models = []\n",
    "for i in models:\n",
    "    modelpipe = Pipeline([\n",
    "        ('transformer', transformer),\n",
    "        ('resampling', smote),\n",
    "        ('clf',i)])\n",
    "    all_models.append(modelpipe)"
   ]
  },
  {
   "cell_type": "markdown",
   "metadata": {},
   "source": [
    "> ### 2.3.2 Cross Validation"
   ]
  },
  {
   "cell_type": "markdown",
   "metadata": {},
   "source": [
    "I am going to use __PRECISION SCORE__ as evaluation metrics because I want the FP as less as possible.\n",
    "\n",
    "1. FN is a condition when the __MODEL__ predict THE GUESTS ARE COMING __(0)__ but __ACTUALLY__ THE BOOKINGS ARE CANCELLED __(1)__\n",
    "    - High numbers of FN will cause __unoptimal revenue__ due to many rooms are reserved (and can not be booked by other potential guests) but the booking is cancelled\n",
    "\n",
    "\n",
    "2. FP is a condition when the __MODEL__ predict THE BOOKINGS ARE CANCELLED __(1)__ but __ACTUALLY__ THE GUESTS ARE COMING __(0)__\n",
    "    - High numbers of FP will cause __overbooking__.\n",
    "        -  overbooking can force the hotel to deny service to a customer; this can be a very bad experience for the guests and may result in online __complaints and generation of a negative impact in terms of social reputation__ \n",
    "        - the hotel also __lose future revenue__ from this overbooking, since the guests who experienced bad service have strong tendency to avoid that hotel. In other words, \n",
    "        - overbooking also cause the loss that occurs as a result of the hotel’s obligation to compensate the customer, including reallocation costs\n",
    "\n",
    "<img src=\"https://static.packt-cdn.com/products/9781838555078/graphics/C13314_06_05.jpg\" alt=\"Hotel Lobby\" style=\"width:690px;height:345px;\">"
   ]
  },
  {
   "cell_type": "code",
   "execution_count": 10,
   "metadata": {},
   "outputs": [
    {
     "name": "stderr",
     "output_type": "stream",
     "text": [
      "[Parallel(n_jobs=-1)]: Using backend LokyBackend with 12 concurrent workers.\n",
      "[Parallel(n_jobs=-1)]: Done   5 out of   5 | elapsed:   40.7s finished\n",
      "[Parallel(n_jobs=-1)]: Using backend LokyBackend with 12 concurrent workers.\n",
      "[Parallel(n_jobs=-1)]: Done   5 out of   5 | elapsed:   36.1s finished\n",
      "[Parallel(n_jobs=-1)]: Using backend LokyBackend with 12 concurrent workers.\n",
      "[Parallel(n_jobs=-1)]: Done   5 out of   5 | elapsed:   52.8s finished\n",
      "[Parallel(n_jobs=-1)]: Using backend LokyBackend with 12 concurrent workers.\n",
      "[Parallel(n_jobs=-1)]: Done   5 out of   5 | elapsed:  1.3min finished\n",
      "[Parallel(n_jobs=-1)]: Using backend LokyBackend with 12 concurrent workers.\n",
      "[Parallel(n_jobs=-1)]: Done   5 out of   5 | elapsed:   51.7s finished\n",
      "[Parallel(n_jobs=-1)]: Using backend LokyBackend with 12 concurrent workers.\n",
      "[Parallel(n_jobs=-1)]: Done   5 out of   5 | elapsed:  1.8min finished\n"
     ]
    }
   ],
   "source": [
    "# Cross validation\n",
    "skfold = StratifiedKFold(n_splits=5, random_state=2021, shuffle=True)\n",
    "\n",
    "logit_score = cross_val_score(all_models[0], X_train, y_train, scoring='precision', cv=skfold, n_jobs=-1, verbose=1)\n",
    "dtc_score = cross_val_score(all_models[1], X_train, y_train, scoring='precision', cv=skfold, n_jobs=-1, verbose=1)\n",
    "rfc_score = cross_val_score(all_models[2], X_train, y_train, scoring='precision', cv=skfold, n_jobs=-1, verbose=1)\n",
    "gbc_score = cross_val_score(all_models[3], X_train, y_train, scoring='precision', cv=skfold, n_jobs=-1, verbose=1)\n",
    "xgbc_score = cross_val_score(all_models[4], X_train, y_train, scoring='precision', cv=skfold, n_jobs=-1, verbose=1)\n",
    "knn_score = cross_val_score(all_models[5], X_train, y_train, scoring='precision', cv=skfold, n_jobs=-1, verbose=1)"
   ]
  },
  {
   "cell_type": "code",
   "execution_count": 11,
   "metadata": {},
   "outputs": [
    {
     "data": {
      "text/html": [
       "<div>\n",
       "<style scoped>\n",
       "    .dataframe tbody tr th:only-of-type {\n",
       "        vertical-align: middle;\n",
       "    }\n",
       "\n",
       "    .dataframe tbody tr th {\n",
       "        vertical-align: top;\n",
       "    }\n",
       "\n",
       "    .dataframe thead th {\n",
       "        text-align: right;\n",
       "    }\n",
       "</style>\n",
       "<table border=\"1\" class=\"dataframe\">\n",
       "  <thead>\n",
       "    <tr style=\"text-align: right;\">\n",
       "      <th></th>\n",
       "      <th>0</th>\n",
       "      <th>1</th>\n",
       "      <th>2</th>\n",
       "      <th>3</th>\n",
       "      <th>4</th>\n",
       "    </tr>\n",
       "  </thead>\n",
       "  <tbody>\n",
       "    <tr>\n",
       "      <th>LogisticRegression</th>\n",
       "      <td>0.670192</td>\n",
       "      <td>0.685931</td>\n",
       "      <td>0.673060</td>\n",
       "      <td>0.682467</td>\n",
       "      <td>0.676181</td>\n",
       "    </tr>\n",
       "    <tr>\n",
       "      <th>DecisionTreeClassifier</th>\n",
       "      <td>0.770015</td>\n",
       "      <td>0.772604</td>\n",
       "      <td>0.777672</td>\n",
       "      <td>0.771148</td>\n",
       "      <td>0.768717</td>\n",
       "    </tr>\n",
       "    <tr>\n",
       "      <th>RandomForestClassifier</th>\n",
       "      <td>0.865005</td>\n",
       "      <td>0.862391</td>\n",
       "      <td>0.868566</td>\n",
       "      <td>0.865482</td>\n",
       "      <td>0.857079</td>\n",
       "    </tr>\n",
       "    <tr>\n",
       "      <th>GradientBoostingClassifier</th>\n",
       "      <td>0.759216</td>\n",
       "      <td>0.763364</td>\n",
       "      <td>0.767160</td>\n",
       "      <td>0.752446</td>\n",
       "      <td>0.755344</td>\n",
       "    </tr>\n",
       "    <tr>\n",
       "      <th>XGBClassifier</th>\n",
       "      <td>0.828654</td>\n",
       "      <td>0.835068</td>\n",
       "      <td>0.828551</td>\n",
       "      <td>0.822034</td>\n",
       "      <td>0.823367</td>\n",
       "    </tr>\n",
       "    <tr>\n",
       "      <th>KNeighborsClassifier</th>\n",
       "      <td>0.704807</td>\n",
       "      <td>0.703202</td>\n",
       "      <td>0.705039</td>\n",
       "      <td>0.702842</td>\n",
       "      <td>0.697554</td>\n",
       "    </tr>\n",
       "  </tbody>\n",
       "</table>\n",
       "</div>"
      ],
      "text/plain": [
       "                                   0         1         2         3         4\n",
       "LogisticRegression          0.670192  0.685931  0.673060  0.682467  0.676181\n",
       "DecisionTreeClassifier      0.770015  0.772604  0.777672  0.771148  0.768717\n",
       "RandomForestClassifier      0.865005  0.862391  0.868566  0.865482  0.857079\n",
       "GradientBoostingClassifier  0.759216  0.763364  0.767160  0.752446  0.755344\n",
       "XGBClassifier               0.828654  0.835068  0.828551  0.822034  0.823367\n",
       "KNeighborsClassifier        0.704807  0.703202  0.705039  0.702842  0.697554"
      ]
     },
     "execution_count": 11,
     "metadata": {},
     "output_type": "execute_result"
    }
   ],
   "source": [
    "# Cross validation score\n",
    "crosval_results = [logit_score,dtc_score,rfc_score,gbc_score,xgbc_score,knn_score]\n",
    "pd.DataFrame(crosval_results, index=model_name)"
   ]
  },
  {
   "cell_type": "code",
   "execution_count": 12,
   "metadata": {},
   "outputs": [
    {
     "data": {
      "image/png": "[encoded data removed]",
      "text/plain": [
       "<Figure size 1440x360 with 1 Axes>"
      ]
     },
     "metadata": {},
     "output_type": "display_data"
    }
   ],
   "source": [
    "# Plot cross validation score\n",
    "sns.set_style('darkgrid')\n",
    "plt.figure(figsize=(20,5))\n",
    "sns.lineplot(data=pd.DataFrame(crosval_results, index=model_name).T)\n",
    "plt.show()"
   ]
  },
  {
   "cell_type": "code",
   "execution_count": 13,
   "metadata": {},
   "outputs": [
    {
     "data": {
      "text/html": [
       "<div>\n",
       "<style scoped>\n",
       "    .dataframe tbody tr th:only-of-type {\n",
       "        vertical-align: middle;\n",
       "    }\n",
       "\n",
       "    .dataframe tbody tr th {\n",
       "        vertical-align: top;\n",
       "    }\n",
       "\n",
       "    .dataframe thead th {\n",
       "        text-align: right;\n",
       "    }\n",
       "</style>\n",
       "<table border=\"1\" class=\"dataframe\">\n",
       "  <thead>\n",
       "    <tr style=\"text-align: right;\">\n",
       "      <th></th>\n",
       "      <th>score_mean</th>\n",
       "      <th>score_std</th>\n",
       "    </tr>\n",
       "  </thead>\n",
       "  <tbody>\n",
       "    <tr>\n",
       "      <th>LogisticRegression</th>\n",
       "      <td>0.677566</td>\n",
       "      <td>0.005841</td>\n",
       "    </tr>\n",
       "    <tr>\n",
       "      <th>DecisionTreeClassifier</th>\n",
       "      <td>0.772031</td>\n",
       "      <td>0.003098</td>\n",
       "    </tr>\n",
       "    <tr>\n",
       "      <th>RandomForestClassifier</th>\n",
       "      <td>0.863705</td>\n",
       "      <td>0.003850</td>\n",
       "    </tr>\n",
       "    <tr>\n",
       "      <th>GradientBoostingClassifier</th>\n",
       "      <td>0.759506</td>\n",
       "      <td>0.005305</td>\n",
       "    </tr>\n",
       "    <tr>\n",
       "      <th>XGBClassifier</th>\n",
       "      <td>0.827535</td>\n",
       "      <td>0.004619</td>\n",
       "    </tr>\n",
       "    <tr>\n",
       "      <th>KNeighborsClassifier</th>\n",
       "      <td>0.702689</td>\n",
       "      <td>0.002708</td>\n",
       "    </tr>\n",
       "  </tbody>\n",
       "</table>\n",
       "</div>"
      ],
      "text/plain": [
       "                            score_mean  score_std\n",
       "LogisticRegression            0.677566   0.005841\n",
       "DecisionTreeClassifier        0.772031   0.003098\n",
       "RandomForestClassifier        0.863705   0.003850\n",
       "GradientBoostingClassifier    0.759506   0.005305\n",
       "XGBClassifier                 0.827535   0.004619\n",
       "KNeighborsClassifier          0.702689   0.002708"
      ]
     },
     "execution_count": 13,
     "metadata": {},
     "output_type": "execute_result"
    }
   ],
   "source": [
    "# Cross validation score mean and std\n",
    "crosval_results_mean = [logit_score.mean(),dtc_score.mean(),rfc_score.mean(),gbc_score.mean(),xgbc_score.mean(),knn_score.mean()]\n",
    "crosval_results_std = [logit_score.std(),dtc_score.std(),rfc_score.std(),gbc_score.std(),xgbc_score.std(),knn_score.std()]\n",
    "pd.DataFrame({'score_mean':crosval_results_mean, 'score_std':crosval_results_std}, index=model_name)"
   ]
  },
  {
   "cell_type": "markdown",
   "metadata": {},
   "source": [
    "It can be said that all the models are stable. Now let's check the training and test precision accuracy"
   ]
  },
  {
   "cell_type": "markdown",
   "metadata": {},
   "source": [
    "> ### 2.3.3 Fit & Evaluation"
   ]
  },
  {
   "cell_type": "code",
   "execution_count": 14,
   "metadata": {},
   "outputs": [
    {
     "name": "stdout",
     "output_type": "stream",
     "text": [
      "[17:47:08] WARNING: C:/Users/Administrator/workspace/xgboost-win64_release_1.3.0/src/learner.cc:1061: Starting in XGBoost 1.3.0, the default evaluation metric used with the objective 'binary:logistic' was changed from 'error' to 'logloss'. Explicitly set eval_metric if you'd like to restore the old behavior.\n",
      "[17:53:58] WARNING: C:/Users/Administrator/workspace/xgboost-win64_release_1.3.0/src/learner.cc:1061: Starting in XGBoost 1.3.0, the default evaluation metric used with the objective 'binary:logistic' was changed from 'error' to 'logloss'. Explicitly set eval_metric if you'd like to restore the old behavior.\n",
      "[18:00:54] WARNING: C:/Users/Administrator/workspace/xgboost-win64_release_1.3.0/src/learner.cc:1061: Starting in XGBoost 1.3.0, the default evaluation metric used with the objective 'binary:logistic' was changed from 'error' to 'logloss'. Explicitly set eval_metric if you'd like to restore the old behavior.\n",
      "[18:07:56] WARNING: C:/Users/Administrator/workspace/xgboost-win64_release_1.3.0/src/learner.cc:1061: Starting in XGBoost 1.3.0, the default evaluation metric used with the objective 'binary:logistic' was changed from 'error' to 'logloss'. Explicitly set eval_metric if you'd like to restore the old behavior.\n",
      "[18:14:55] WARNING: C:/Users/Administrator/workspace/xgboost-win64_release_1.3.0/src/learner.cc:1061: Starting in XGBoost 1.3.0, the default evaluation metric used with the objective 'binary:logistic' was changed from 'error' to 'logloss'. Explicitly set eval_metric if you'd like to restore the old behavior.\n"
     ]
    }
   ],
   "source": [
    "# Fit and predict\n",
    "tr_score = []\n",
    "ts_score = []\n",
    "default_models = []\n",
    "\n",
    "skf = StratifiedKFold(random_state=2021, shuffle=True)\n",
    "\n",
    "for train_index, test_index in skf.split(X_train, y_train):\n",
    "    for i in all_models:\n",
    "        each_models = i.fit(X_train, y_train)\n",
    "        default_models.append(each_models)\n",
    "        tr_score.append(precision_score(y_train, each_models.predict(X_train)))\n",
    "        ts_score.append(precision_score(y_test, each_models.predict(X_test)))"
   ]
  },
  {
   "cell_type": "code",
   "execution_count": 15,
   "metadata": {},
   "outputs": [
    {
     "data": {
      "text/html": [
       "<div>\n",
       "<style scoped>\n",
       "    .dataframe tbody tr th:only-of-type {\n",
       "        vertical-align: middle;\n",
       "    }\n",
       "\n",
       "    .dataframe tbody tr th {\n",
       "        vertical-align: top;\n",
       "    }\n",
       "\n",
       "    .dataframe thead th {\n",
       "        text-align: right;\n",
       "    }\n",
       "</style>\n",
       "<table border=\"1\" class=\"dataframe\">\n",
       "  <thead>\n",
       "    <tr style=\"text-align: right;\">\n",
       "      <th></th>\n",
       "      <th>train_score_logreg</th>\n",
       "      <th>test_score_logreg</th>\n",
       "      <th>train_score_dtc</th>\n",
       "      <th>test_score_dtc</th>\n",
       "      <th>train_score_rfc</th>\n",
       "      <th>test_score_rfc</th>\n",
       "      <th>train_score_gbc</th>\n",
       "      <th>test_score_gbc</th>\n",
       "      <th>train_score_xgbc</th>\n",
       "      <th>test_score_xgbc</th>\n",
       "      <th>train_score_knn</th>\n",
       "      <th>test_score_knn</th>\n",
       "    </tr>\n",
       "  </thead>\n",
       "  <tbody>\n",
       "    <tr>\n",
       "      <th>0</th>\n",
       "      <td>0.680941</td>\n",
       "      <td>0.680704</td>\n",
       "      <td>0.994756</td>\n",
       "      <td>0.781548</td>\n",
       "      <td>0.994029</td>\n",
       "      <td>0.864629</td>\n",
       "      <td>0.751175</td>\n",
       "      <td>0.746854</td>\n",
       "      <td>0.848787</td>\n",
       "      <td>0.824425</td>\n",
       "      <td>0.796191</td>\n",
       "      <td>0.706753</td>\n",
       "    </tr>\n",
       "    <tr>\n",
       "      <th>1</th>\n",
       "      <td>0.682109</td>\n",
       "      <td>0.682428</td>\n",
       "      <td>0.995009</td>\n",
       "      <td>0.778750</td>\n",
       "      <td>0.993946</td>\n",
       "      <td>0.865239</td>\n",
       "      <td>0.753830</td>\n",
       "      <td>0.748424</td>\n",
       "      <td>0.845334</td>\n",
       "      <td>0.822763</td>\n",
       "      <td>0.794940</td>\n",
       "      <td>0.704145</td>\n",
       "    </tr>\n",
       "    <tr>\n",
       "      <th>2</th>\n",
       "      <td>0.681178</td>\n",
       "      <td>0.680221</td>\n",
       "      <td>0.995544</td>\n",
       "      <td>0.773250</td>\n",
       "      <td>0.994057</td>\n",
       "      <td>0.863006</td>\n",
       "      <td>0.752576</td>\n",
       "      <td>0.746361</td>\n",
       "      <td>0.847697</td>\n",
       "      <td>0.822319</td>\n",
       "      <td>0.797499</td>\n",
       "      <td>0.708254</td>\n",
       "    </tr>\n",
       "    <tr>\n",
       "      <th>3</th>\n",
       "      <td>0.681724</td>\n",
       "      <td>0.680933</td>\n",
       "      <td>0.995375</td>\n",
       "      <td>0.777501</td>\n",
       "      <td>0.994281</td>\n",
       "      <td>0.864276</td>\n",
       "      <td>0.756382</td>\n",
       "      <td>0.750430</td>\n",
       "      <td>0.845162</td>\n",
       "      <td>0.822274</td>\n",
       "      <td>0.796152</td>\n",
       "      <td>0.704188</td>\n",
       "    </tr>\n",
       "    <tr>\n",
       "      <th>4</th>\n",
       "      <td>0.680773</td>\n",
       "      <td>0.680897</td>\n",
       "      <td>0.996023</td>\n",
       "      <td>0.771899</td>\n",
       "      <td>0.994085</td>\n",
       "      <td>0.864591</td>\n",
       "      <td>0.754473</td>\n",
       "      <td>0.750642</td>\n",
       "      <td>0.846798</td>\n",
       "      <td>0.823340</td>\n",
       "      <td>0.796535</td>\n",
       "      <td>0.705431</td>\n",
       "    </tr>\n",
       "  </tbody>\n",
       "</table>\n",
       "</div>"
      ],
      "text/plain": [
       "   train_score_logreg  test_score_logreg  train_score_dtc  test_score_dtc  \\\n",
       "0            0.680941           0.680704         0.994756        0.781548   \n",
       "1            0.682109           0.682428         0.995009        0.778750   \n",
       "2            0.681178           0.680221         0.995544        0.773250   \n",
       "3            0.681724           0.680933         0.995375        0.777501   \n",
       "4            0.680773           0.680897         0.996023        0.771899   \n",
       "\n",
       "   train_score_rfc  test_score_rfc  train_score_gbc  test_score_gbc  \\\n",
       "0         0.994029        0.864629         0.751175        0.746854   \n",
       "1         0.993946        0.865239         0.753830        0.748424   \n",
       "2         0.994057        0.863006         0.752576        0.746361   \n",
       "3         0.994281        0.864276         0.756382        0.750430   \n",
       "4         0.994085        0.864591         0.754473        0.750642   \n",
       "\n",
       "   train_score_xgbc  test_score_xgbc  train_score_knn  test_score_knn  \n",
       "0          0.848787         0.824425         0.796191        0.706753  \n",
       "1          0.845334         0.822763         0.794940        0.704145  \n",
       "2          0.847697         0.822319         0.797499        0.708254  \n",
       "3          0.845162         0.822274         0.796152        0.704188  \n",
       "4          0.846798         0.823340         0.796535        0.705431  "
      ]
     },
     "execution_count": 15,
     "metadata": {},
     "output_type": "execute_result"
    }
   ],
   "source": [
    "# Summary of train and test score\n",
    "train_score_logreg = tr_score[0::6]\n",
    "train_score_dtc = tr_score[1::6]\n",
    "train_score_rfc = tr_score[2::6]\n",
    "train_score_gbc = tr_score[3::6]\n",
    "train_score_xgbc = tr_score[4::6]\n",
    "train_score_knn = tr_score[5::6]\n",
    "\n",
    "test_score_logreg = ts_score[0::6]\n",
    "test_score_dtc = ts_score[1::6]\n",
    "test_score_rfc = ts_score[2::6]\n",
    "test_score_gbc = ts_score[3::6]\n",
    "test_score_xgbc = ts_score[4::6]\n",
    "test_score_knn = ts_score[5::6]\n",
    "\n",
    "train_vs_test = pd.DataFrame({'train_score_logreg':train_score_logreg,\n",
    "              'test_score_logreg':test_score_logreg,\n",
    "              'train_score_dtc':train_score_dtc,\n",
    "              'test_score_dtc':test_score_dtc,\n",
    "              'train_score_rfc':train_score_rfc,\n",
    "              'test_score_rfc':test_score_rfc,\n",
    "              'train_score_gbc':train_score_gbc,\n",
    "              'test_score_gbc':test_score_gbc,\n",
    "              'train_score_xgbc':train_score_xgbc,\n",
    "              'test_score_xgbc':test_score_xgbc,\n",
    "              'train_score_knn':train_score_knn,\n",
    "              'test_score_knn':test_score_knn\n",
    "             })\n",
    "train_vs_test"
   ]
  },
  {
   "cell_type": "code",
   "execution_count": 16,
   "metadata": {},
   "outputs": [
    {
     "data": {
      "image/png": "[encoded data removed]",
      "text/plain": [
       "<Figure size 2160x1080 with 6 Axes>"
      ]
     },
     "metadata": {},
     "output_type": "display_data"
    }
   ],
   "source": [
    "# Plot the score of each models\n",
    "plt.figure(figsize=(30,15))\n",
    "\n",
    "plt.subplot(321)\n",
    "plt.ylim(0.65, 1)\n",
    "sns.lineplot(data=train_vs_test[['train_score_logreg','test_score_logreg']])\n",
    "\n",
    "plt.subplot(322)\n",
    "plt.ylim(0.65, 1)\n",
    "sns.lineplot(data=train_vs_test[['train_score_dtc','test_score_dtc']])\n",
    "\n",
    "plt.subplot(323)\n",
    "plt.ylim(0.65, 1)\n",
    "sns.lineplot(data=train_vs_test[['train_score_rfc','test_score_rfc']])\n",
    "\n",
    "plt.subplot(324)\n",
    "plt.ylim(0.65, 1)\n",
    "sns.lineplot(data=train_vs_test[['train_score_gbc','test_score_gbc']])\n",
    "\n",
    "plt.subplot(325)\n",
    "plt.ylim(0.65, 1)\n",
    "sns.lineplot(data=train_vs_test[['train_score_xgbc','test_score_xgbc']])\n",
    "\n",
    "plt.subplot(326)\n",
    "plt.ylim(0.65, 1)\n",
    "sns.lineplot(data=train_vs_test[['train_score_knn','test_score_knn']])\n",
    "\n",
    "\n",
    "plt.show()"
   ]
  },
  {
   "cell_type": "code",
   "execution_count": 17,
   "metadata": {},
   "outputs": [],
   "source": [
    "# Average score of each models\n",
    "avg_train_score_logreg = sum(train_score_logreg)/len(train_score_logreg)\n",
    "avg_test_score_logreg = sum(test_score_logreg)/len(test_score_logreg)\n",
    "avg_train_score_dtc = sum(train_score_dtc)/len(train_score_dtc)\n",
    "avg_test_score_dtc = sum(test_score_dtc)/len(test_score_dtc)\n",
    "avg_train_score_rfc = sum(train_score_rfc)/len(train_score_rfc)\n",
    "avg_test_score_rfc = sum(test_score_rfc)/len(test_score_rfc)\n",
    "avg_train_score_gbc = sum(train_score_gbc)/len(train_score_gbc)\n",
    "avg_test_score_gbc = sum(test_score_gbc)/len(test_score_gbc)\n",
    "avg_train_score_xgbc = sum(train_score_xgbc)/len(train_score_xgbc)\n",
    "avg_test_score_xgbc = sum(test_score_xgbc)/len(test_score_xgbc)\n",
    "avg_train_score_knn = sum(train_score_knn)/len(train_score_knn)\n",
    "avg_test_score_knn = sum(test_score_knn)/len(test_score_knn)\n",
    "\n",
    "trainScore = [avg_train_score_logreg,avg_train_score_dtc, avg_train_score_rfc, avg_train_score_gbc, avg_train_score_xgbc, avg_train_score_knn]\n",
    "testScore = [avg_test_score_logreg, avg_test_score_dtc, avg_test_score_rfc, avg_test_score_gbc, avg_test_score_xgbc, avg_test_score_knn]"
   ]
  },
  {
   "cell_type": "code",
   "execution_count": 18,
   "metadata": {},
   "outputs": [
    {
     "data": {
      "text/html": [
       "<div>\n",
       "<style scoped>\n",
       "    .dataframe tbody tr th:only-of-type {\n",
       "        vertical-align: middle;\n",
       "    }\n",
       "\n",
       "    .dataframe tbody tr th {\n",
       "        vertical-align: top;\n",
       "    }\n",
       "\n",
       "    .dataframe thead th {\n",
       "        text-align: right;\n",
       "    }\n",
       "</style>\n",
       "<table border=\"1\" class=\"dataframe\">\n",
       "  <thead>\n",
       "    <tr style=\"text-align: right;\">\n",
       "      <th></th>\n",
       "      <th>trainScore</th>\n",
       "      <th>testScore</th>\n",
       "      <th>difference</th>\n",
       "    </tr>\n",
       "  </thead>\n",
       "  <tbody>\n",
       "    <tr>\n",
       "      <th>LogisticRegression</th>\n",
       "      <td>0.681345</td>\n",
       "      <td>0.681037</td>\n",
       "      <td>0.000308</td>\n",
       "    </tr>\n",
       "    <tr>\n",
       "      <th>DecisionTreeClassifier</th>\n",
       "      <td>0.995342</td>\n",
       "      <td>0.776590</td>\n",
       "      <td>0.218752</td>\n",
       "    </tr>\n",
       "    <tr>\n",
       "      <th>RandomForestClassifier</th>\n",
       "      <td>0.994080</td>\n",
       "      <td>0.864348</td>\n",
       "      <td>0.129732</td>\n",
       "    </tr>\n",
       "    <tr>\n",
       "      <th>GradientBoostingClassifier</th>\n",
       "      <td>0.753687</td>\n",
       "      <td>0.748542</td>\n",
       "      <td>0.005145</td>\n",
       "    </tr>\n",
       "    <tr>\n",
       "      <th>XGBClassifier</th>\n",
       "      <td>0.846756</td>\n",
       "      <td>0.823024</td>\n",
       "      <td>0.023732</td>\n",
       "    </tr>\n",
       "    <tr>\n",
       "      <th>KNeighborsClassifier</th>\n",
       "      <td>0.796263</td>\n",
       "      <td>0.705754</td>\n",
       "      <td>0.090509</td>\n",
       "    </tr>\n",
       "  </tbody>\n",
       "</table>\n",
       "</div>"
      ],
      "text/plain": [
       "                            trainScore  testScore  difference\n",
       "LogisticRegression            0.681345   0.681037    0.000308\n",
       "DecisionTreeClassifier        0.995342   0.776590    0.218752\n",
       "RandomForestClassifier        0.994080   0.864348    0.129732\n",
       "GradientBoostingClassifier    0.753687   0.748542    0.005145\n",
       "XGBClassifier                 0.846756   0.823024    0.023732\n",
       "KNeighborsClassifier          0.796263   0.705754    0.090509"
      ]
     },
     "execution_count": 18,
     "metadata": {},
     "output_type": "execute_result"
    }
   ],
   "source": [
    "# Summary of average score\n",
    "avg_train_vs_test = pd.DataFrame({'trainScore':trainScore,\n",
    "                                  'testScore':testScore},\n",
    "                                 index = model_name\n",
    "                            )\n",
    "\n",
    "avg_train_vs_test['difference'] = avg_train_vs_test['trainScore']-avg_train_vs_test['testScore']\n",
    "avg_train_vs_test"
   ]
  },
  {
   "cell_type": "markdown",
   "metadata": {},
   "source": [
    "From the table and graphic above, we can see that: \n",
    "- the highest precision occured in Random Forest Classifier (87.9%) followed by Extra Gradient Boosting Classifier (84.1%)\n",
    "- the highest precision occured in Decision Tree Classifier (99.5%) followed by Random Forest Classifier (99.4%)\n",
    "- DTC model has the highest difference between train and test score. Although the train score of DTC model is the highest, it can't predict the test data well. It can be said that Decision Tree Classifier has a tendency to overfit and not to generalize well for future bookings\n",
    "\n",
    "Now, I will choose 2 models to be treated with another strategy, which is Feature Selection using Recursive Feature Elemination (RFE). Considering the train and test score as well as the overfit indication, I decide to choose __Random Forest Classifier and Extra Gradient Boosting Classifier__."
   ]
  },
  {
   "cell_type": "markdown",
   "metadata": {},
   "source": [
    "> ## 2.4 Modeling with Default Parameters + RFE"
   ]
  },
  {
   "cell_type": "code",
   "execution_count": 92,
   "metadata": {},
   "outputs": [
    {
     "data": {
      "text/plain": [
       "0    0\n",
       "1    0\n",
       "2    0\n",
       "3    0\n",
       "4    0\n",
       "Name: is_canceled, dtype: int64"
      ]
     },
     "execution_count": 92,
     "metadata": {},
     "output_type": "execute_result"
    }
   ],
   "source": [
    "X_ = df_modeling.drop(columns='is_canceled')\n",
    "y_ = df_modeling['is_canceled']\n",
    "y.head()"
   ]
  },
  {
   "cell_type": "code",
   "execution_count": 93,
   "metadata": {},
   "outputs": [],
   "source": [
    "X_train_, X_test_, y_train_, y_test_ = train_test_split(\n",
    "    X_,\n",
    "    y_,\n",
    "    stratify = y_,\n",
    "    test_size = 0.2, \n",
    "    random_state = 2020)"
   ]
  },
  {
   "cell_type": "markdown",
   "metadata": {},
   "source": [
    "> ### 2.4.1 RFE assignment in Pipeline"
   ]
  },
  {
   "cell_type": "code",
   "execution_count": 94,
   "metadata": {},
   "outputs": [],
   "source": [
    "from sklearn.feature_selection import SelectPercentile, RFE\n",
    "# Combine all pipeline. Assign in to a list\n",
    "all_models_rfe = []\n",
    "for i in models:\n",
    "    modelpipe_rfe = Pipeline([\n",
    "        ('transformer', transformer),\n",
    "        ('resampling', smote),\n",
    "        ('rfe', RFE(rfc)),\n",
    "        ('clf',i)])\n",
    "    all_models_rfe.append(modelpipe_rfe)"
   ]
  },
  {
   "cell_type": "markdown",
   "metadata": {},
   "source": [
    "> ### 2.4.2 Cross Validation"
   ]
  },
  {
   "cell_type": "code",
   "execution_count": 95,
   "metadata": {},
   "outputs": [
    {
     "name": "stderr",
     "output_type": "stream",
     "text": [
      "[Parallel(n_jobs=-1)]: Using backend LokyBackend with 4 concurrent workers.\n",
      "[Parallel(n_jobs=-1)]: Done   5 out of   5 | elapsed: 23.4min finished\n",
      "[Parallel(n_jobs=-1)]: Using backend LokyBackend with 4 concurrent workers.\n",
      "[Parallel(n_jobs=-1)]: Done   5 out of   5 | elapsed: 25.0min finished\n"
     ]
    }
   ],
   "source": [
    "skfold = StratifiedKFold(n_splits=5, random_state=2021, shuffle=True)\n",
    "\n",
    "# logit_score_rfe = cross_val_score(all_models_rfe[0], X_train_, y_train_, scoring='precision', cv=skfold, n_jobs=-1, verbose=1)\n",
    "# dtc_score_rfe = cross_val_score(all_models_rfe[1], X_train_, y_train_, scoring='precision', cv=skfold, n_jobs=-1, verbose=1)\n",
    "rfc_score_rfe = cross_val_score(all_models_rfe[2], X_train_, y_train_, scoring='precision', cv=skfold, n_jobs=-1, verbose=1)\n",
    "# gbc_score_rfe = cross_val_score(all_models_rfe[3], X_train_, y_train_, scoring='precision', cv=skfold, n_jobs=-1, verbose=1)\n",
    "xgbc_score_rfe = cross_val_score(all_models_rfe[4], X_train_, y_train_, scoring='precision', cv=skfold, n_jobs=-1, verbose=1)\n",
    "# knn_score_rfe = cross_val_score(all_models_rfe[5], X_train_, y_train_, scoring='precision', cv=skfold, n_jobs=-1, verbose=1)"
   ]
  },
  {
   "cell_type": "code",
   "execution_count": 96,
   "metadata": {},
   "outputs": [
    {
     "data": {
      "text/html": [
       "<div>\n",
       "<style scoped>\n",
       "    .dataframe tbody tr th:only-of-type {\n",
       "        vertical-align: middle;\n",
       "    }\n",
       "\n",
       "    .dataframe tbody tr th {\n",
       "        vertical-align: top;\n",
       "    }\n",
       "\n",
       "    .dataframe thead th {\n",
       "        text-align: right;\n",
       "    }\n",
       "</style>\n",
       "<table border=\"1\" class=\"dataframe\">\n",
       "  <thead>\n",
       "    <tr style=\"text-align: right;\">\n",
       "      <th></th>\n",
       "      <th>0</th>\n",
       "      <th>1</th>\n",
       "      <th>2</th>\n",
       "      <th>3</th>\n",
       "      <th>4</th>\n",
       "    </tr>\n",
       "  </thead>\n",
       "  <tbody>\n",
       "    <tr>\n",
       "      <th>RandomForestClassifier</th>\n",
       "      <td>0.850409</td>\n",
       "      <td>0.858806</td>\n",
       "      <td>0.850386</td>\n",
       "      <td>0.852211</td>\n",
       "      <td>0.849101</td>\n",
       "    </tr>\n",
       "    <tr>\n",
       "      <th>XGBClassifier</th>\n",
       "      <td>0.818967</td>\n",
       "      <td>0.830593</td>\n",
       "      <td>0.821280</td>\n",
       "      <td>0.815729</td>\n",
       "      <td>0.813426</td>\n",
       "    </tr>\n",
       "  </tbody>\n",
       "</table>\n",
       "</div>"
      ],
      "text/plain": [
       "                               0         1         2         3         4\n",
       "RandomForestClassifier  0.850409  0.858806  0.850386  0.852211  0.849101\n",
       "XGBClassifier           0.818967  0.830593  0.821280  0.815729  0.813426"
      ]
     },
     "execution_count": 96,
     "metadata": {},
     "output_type": "execute_result"
    }
   ],
   "source": [
    "# Cross validation score\n",
    "crosval_results_rfe = [rfc_score_rfe, xgbc_score_rfe]\n",
    "pd.DataFrame(crosval_results_rfe, index=[model_name[2], model_name[4]])"
   ]
  },
  {
   "cell_type": "code",
   "execution_count": 97,
   "metadata": {},
   "outputs": [
    {
     "data": {
      "image/png": "[encoded data removed]",
      "text/plain": [
       "<Figure size 1440x360 with 1 Axes>"
      ]
     },
     "metadata": {},
     "output_type": "display_data"
    }
   ],
   "source": [
    "# Plot cross validation score\n",
    "sns.set_style('darkgrid')\n",
    "plt.figure(figsize=(20,5))\n",
    "sns.lineplot(data=pd.DataFrame(crosval_results_rfe, index=[model_name[2], model_name[4]]).T)\n",
    "plt.show()"
   ]
  },
  {
   "cell_type": "code",
   "execution_count": 98,
   "metadata": {},
   "outputs": [
    {
     "data": {
      "text/html": [
       "<div>\n",
       "<style scoped>\n",
       "    .dataframe tbody tr th:only-of-type {\n",
       "        vertical-align: middle;\n",
       "    }\n",
       "\n",
       "    .dataframe tbody tr th {\n",
       "        vertical-align: top;\n",
       "    }\n",
       "\n",
       "    .dataframe thead th {\n",
       "        text-align: right;\n",
       "    }\n",
       "</style>\n",
       "<table border=\"1\" class=\"dataframe\">\n",
       "  <thead>\n",
       "    <tr style=\"text-align: right;\">\n",
       "      <th></th>\n",
       "      <th>score_mean_rfe</th>\n",
       "      <th>score_std_rfe</th>\n",
       "    </tr>\n",
       "  </thead>\n",
       "  <tbody>\n",
       "    <tr>\n",
       "      <th>RandomForestClassifier</th>\n",
       "      <td>0.852183</td>\n",
       "      <td>0.003457</td>\n",
       "    </tr>\n",
       "    <tr>\n",
       "      <th>XGBClassifier</th>\n",
       "      <td>0.819999</td>\n",
       "      <td>0.005939</td>\n",
       "    </tr>\n",
       "  </tbody>\n",
       "</table>\n",
       "</div>"
      ],
      "text/plain": [
       "                        score_mean_rfe  score_std_rfe\n",
       "RandomForestClassifier        0.852183       0.003457\n",
       "XGBClassifier                 0.819999       0.005939"
      ]
     },
     "execution_count": 98,
     "metadata": {},
     "output_type": "execute_result"
    }
   ],
   "source": [
    "# Cross validation score mean and std\n",
    "crosval_results_mean_rfe = [rfc_score_rfe.mean(),xgbc_score_rfe.mean()]\n",
    "crosval_results_std_rfe = [rfc_score_rfe.std(),xgbc_score_rfe.std()]\n",
    "pd.DataFrame({'score_mean_rfe':crosval_results_mean_rfe, 'score_std_rfe':crosval_results_std_rfe}, index=[model_name[2], model_name[4]])"
   ]
  },
  {
   "cell_type": "markdown",
   "metadata": {},
   "source": [
    "> ### 2.4.3 Fit & Evaluation"
   ]
  },
  {
   "cell_type": "code",
   "execution_count": 99,
   "metadata": {},
   "outputs": [
    {
     "name": "stdout",
     "output_type": "stream",
     "text": [
      "[13:35:45] WARNING: ../src/learner.cc:1061: Starting in XGBoost 1.3.0, the default evaluation metric used with the objective 'binary:logistic' was changed from 'error' to 'logloss'. Explicitly set eval_metric if you'd like to restore the old behavior.\n",
      "[13:58:51] WARNING: ../src/learner.cc:1061: Starting in XGBoost 1.3.0, the default evaluation metric used with the objective 'binary:logistic' was changed from 'error' to 'logloss'. Explicitly set eval_metric if you'd like to restore the old behavior.\n",
      "[14:22:05] WARNING: ../src/learner.cc:1061: Starting in XGBoost 1.3.0, the default evaluation metric used with the objective 'binary:logistic' was changed from 'error' to 'logloss'. Explicitly set eval_metric if you'd like to restore the old behavior.\n",
      "[14:45:23] WARNING: ../src/learner.cc:1061: Starting in XGBoost 1.3.0, the default evaluation metric used with the objective 'binary:logistic' was changed from 'error' to 'logloss'. Explicitly set eval_metric if you'd like to restore the old behavior.\n",
      "[15:08:44] WARNING: ../src/learner.cc:1061: Starting in XGBoost 1.3.0, the default evaluation metric used with the objective 'binary:logistic' was changed from 'error' to 'logloss'. Explicitly set eval_metric if you'd like to restore the old behavior.\n"
     ]
    }
   ],
   "source": [
    "# Fit and predict\n",
    "tr_score_rfe = []\n",
    "ts_score_rfe = []\n",
    "default_models_rfe = []\n",
    "\n",
    "skf = StratifiedKFold(random_state=2020, shuffle=True)\n",
    "\n",
    "for train_index_rfe, test_index_rfe in skf.split(X_train_, y_train_):\n",
    "    for i in [all_models_rfe[2], all_models_rfe[4]]:\n",
    "        each_models_rfe = i.fit(X_train_, y_train_)\n",
    "        default_models_rfe.append(each_models_rfe)\n",
    "        tr_score_rfe.append(precision_score(y_train_, each_models_rfe.predict(X_train_)))\n",
    "        ts_score_rfe.append(precision_score(y_test_, each_models_rfe.predict(X_test_)))"
   ]
  },
  {
   "cell_type": "code",
   "execution_count": 100,
   "metadata": {},
   "outputs": [
    {
     "data": {
      "text/html": [
       "<div>\n",
       "<style scoped>\n",
       "    .dataframe tbody tr th:only-of-type {\n",
       "        vertical-align: middle;\n",
       "    }\n",
       "\n",
       "    .dataframe tbody tr th {\n",
       "        vertical-align: top;\n",
       "    }\n",
       "\n",
       "    .dataframe thead th {\n",
       "        text-align: right;\n",
       "    }\n",
       "</style>\n",
       "<table border=\"1\" class=\"dataframe\">\n",
       "  <thead>\n",
       "    <tr style=\"text-align: right;\">\n",
       "      <th></th>\n",
       "      <th>train_score_rfc_rfe</th>\n",
       "      <th>test_score_rfc_rfe</th>\n",
       "      <th>train_score_xgbc_rfe</th>\n",
       "      <th>test_score_xgbc_rfe</th>\n",
       "    </tr>\n",
       "  </thead>\n",
       "  <tbody>\n",
       "    <tr>\n",
       "      <th>0</th>\n",
       "      <td>0.993295</td>\n",
       "      <td>0.849709</td>\n",
       "      <td>0.838644</td>\n",
       "      <td>0.813616</td>\n",
       "    </tr>\n",
       "    <tr>\n",
       "      <th>1</th>\n",
       "      <td>0.993462</td>\n",
       "      <td>0.850816</td>\n",
       "      <td>0.841650</td>\n",
       "      <td>0.817827</td>\n",
       "    </tr>\n",
       "    <tr>\n",
       "      <th>2</th>\n",
       "      <td>0.993267</td>\n",
       "      <td>0.851071</td>\n",
       "      <td>0.840611</td>\n",
       "      <td>0.817294</td>\n",
       "    </tr>\n",
       "    <tr>\n",
       "      <th>3</th>\n",
       "      <td>0.993686</td>\n",
       "      <td>0.853213</td>\n",
       "      <td>0.839714</td>\n",
       "      <td>0.811256</td>\n",
       "    </tr>\n",
       "    <tr>\n",
       "      <th>4</th>\n",
       "      <td>0.994107</td>\n",
       "      <td>0.851662</td>\n",
       "      <td>0.842131</td>\n",
       "      <td>0.820608</td>\n",
       "    </tr>\n",
       "  </tbody>\n",
       "</table>\n",
       "</div>"
      ],
      "text/plain": [
       "   train_score_rfc_rfe  test_score_rfc_rfe  train_score_xgbc_rfe  \\\n",
       "0             0.993295            0.849709              0.838644   \n",
       "1             0.993462            0.850816              0.841650   \n",
       "2             0.993267            0.851071              0.840611   \n",
       "3             0.993686            0.853213              0.839714   \n",
       "4             0.994107            0.851662              0.842131   \n",
       "\n",
       "   test_score_xgbc_rfe  \n",
       "0             0.813616  \n",
       "1             0.817827  \n",
       "2             0.817294  \n",
       "3             0.811256  \n",
       "4             0.820608  "
      ]
     },
     "execution_count": 100,
     "metadata": {},
     "output_type": "execute_result"
    }
   ],
   "source": [
    "# Summary of train and test score\n",
    "train_score_rfc_rfe = tr_score_rfe[0::2]\n",
    "train_score_xgbc_rfe = tr_score_rfe[1::2]\n",
    "\n",
    "test_score_rfc_rfe = ts_score_rfe[0::2]\n",
    "test_score_xgbc_rfe = ts_score_rfe[1::2]\n",
    "\n",
    "train_vs_test_rfe = pd.DataFrame({'train_score_rfc_rfe':train_score_rfc_rfe,\n",
    "              'test_score_rfc_rfe':test_score_rfc_rfe,\n",
    "              'train_score_xgbc_rfe':train_score_xgbc_rfe,\n",
    "              'test_score_xgbc_rfe':test_score_xgbc_rfe,\n",
    "             })\n",
    "train_vs_test_rfe"
   ]
  },
  {
   "cell_type": "code",
   "execution_count": 101,
   "metadata": {},
   "outputs": [
    {
     "data": {
      "image/png": "[encoded data removed]",
      "text/plain": [
       "<Figure size 2160x360 with 2 Axes>"
      ]
     },
     "metadata": {},
     "output_type": "display_data"
    }
   ],
   "source": [
    "# Plot the score of each models\n",
    "plt.figure(figsize=(30,5))\n",
    "\n",
    "plt.subplot(121)\n",
    "plt.ylim(0.75, 1)\n",
    "sns.lineplot(data=train_vs_test_rfe[['train_score_rfc_rfe','test_score_rfc_rfe']])\n",
    "\n",
    "plt.subplot(122)\n",
    "plt.ylim(0.75, 1)\n",
    "sns.lineplot(data=train_vs_test_rfe[['train_score_xgbc_rfe','test_score_xgbc_rfe']])\n",
    "\n",
    "plt.show()"
   ]
  },
  {
   "cell_type": "code",
   "execution_count": 102,
   "metadata": {},
   "outputs": [],
   "source": [
    "# Average score of each models\n",
    "avg_train_score_rfc_rfe = sum(train_score_rfc_rfe)/len(train_score_rfc_rfe)\n",
    "avg_test_score_rfc_rfe = sum(test_score_rfc_rfe)/len(test_score_rfc_rfe)\n",
    "avg_train_score_xgbc_rfe = sum(train_score_xgbc_rfe)/len(train_score_xgbc_rfe)\n",
    "avg_test_score_xgbc_rfe = sum(test_score_xgbc_rfe)/len(test_score_xgbc_rfe)\n",
    "\n",
    "trainScore_rfe = [avg_train_score_rfc_rfe, avg_train_score_xgbc_rfe]\n",
    "testScore_rfe = [avg_test_score_rfc_rfe, avg_test_score_xgbc_rfe]"
   ]
  },
  {
   "cell_type": "code",
   "execution_count": 103,
   "metadata": {},
   "outputs": [
    {
     "data": {
      "text/html": [
       "<div>\n",
       "<style scoped>\n",
       "    .dataframe tbody tr th:only-of-type {\n",
       "        vertical-align: middle;\n",
       "    }\n",
       "\n",
       "    .dataframe tbody tr th {\n",
       "        vertical-align: top;\n",
       "    }\n",
       "\n",
       "    .dataframe thead th {\n",
       "        text-align: right;\n",
       "    }\n",
       "</style>\n",
       "<table border=\"1\" class=\"dataframe\">\n",
       "  <thead>\n",
       "    <tr style=\"text-align: right;\">\n",
       "      <th></th>\n",
       "      <th>trainScore_rfe</th>\n",
       "      <th>testScore_rfe</th>\n",
       "      <th>difference_rfe</th>\n",
       "    </tr>\n",
       "  </thead>\n",
       "  <tbody>\n",
       "    <tr>\n",
       "      <th>RFC RFE</th>\n",
       "      <td>0.993564</td>\n",
       "      <td>0.851294</td>\n",
       "      <td>0.142269</td>\n",
       "    </tr>\n",
       "    <tr>\n",
       "      <th>XGBoost RFE</th>\n",
       "      <td>0.840550</td>\n",
       "      <td>0.816120</td>\n",
       "      <td>0.024430</td>\n",
       "    </tr>\n",
       "  </tbody>\n",
       "</table>\n",
       "</div>"
      ],
      "text/plain": [
       "             trainScore_rfe  testScore_rfe  difference_rfe\n",
       "RFC RFE            0.993564       0.851294        0.142269\n",
       "XGBoost RFE        0.840550       0.816120        0.024430"
      ]
     },
     "execution_count": 103,
     "metadata": {},
     "output_type": "execute_result"
    }
   ],
   "source": [
    "# Summary of average score\n",
    "avg_train_vs_test_rfe = pd.DataFrame({'trainScore_rfe':trainScore_rfe,\n",
    "                                  'testScore_rfe':testScore_rfe},\n",
    "                                 index = ['RFC RFE','XGBoost RFE']\n",
    "                            )\n",
    "\n",
    "avg_train_vs_test_rfe['difference_rfe'] = avg_train_vs_test_rfe['trainScore_rfe']-avg_train_vs_test_rfe['testScore_rfe']\n",
    "avg_train_vs_test_rfe"
   ]
  },
  {
   "cell_type": "code",
   "execution_count": 138,
   "metadata": {},
   "outputs": [
    {
     "data": {
      "text/html": [
       "<div>\n",
       "<style scoped>\n",
       "    .dataframe tbody tr th:only-of-type {\n",
       "        vertical-align: middle;\n",
       "    }\n",
       "\n",
       "    .dataframe tbody tr th {\n",
       "        vertical-align: top;\n",
       "    }\n",
       "\n",
       "    .dataframe thead th {\n",
       "        text-align: right;\n",
       "    }\n",
       "</style>\n",
       "<table border=\"1\" class=\"dataframe\">\n",
       "  <thead>\n",
       "    <tr style=\"text-align: right;\">\n",
       "      <th></th>\n",
       "      <th>Without RFE</th>\n",
       "      <th>WITH RFE</th>\n",
       "    </tr>\n",
       "  </thead>\n",
       "  <tbody>\n",
       "    <tr>\n",
       "      <th>RandomForestClassifier</th>\n",
       "      <td>0.864348</td>\n",
       "      <td>0.851294</td>\n",
       "    </tr>\n",
       "    <tr>\n",
       "      <th>XGBClassifier</th>\n",
       "      <td>0.823024</td>\n",
       "      <td>0.816120</td>\n",
       "    </tr>\n",
       "  </tbody>\n",
       "</table>\n",
       "</div>"
      ],
      "text/plain": [
       "                        Without RFE  WITH RFE\n",
       "RandomForestClassifier     0.864348  0.851294\n",
       "XGBClassifier              0.823024  0.816120"
      ]
     },
     "execution_count": 138,
     "metadata": {},
     "output_type": "execute_result"
    }
   ],
   "source": [
    "testScore2BestModel = []\n",
    "testScore2BestModel.append(avg_train_vs_test['testScore'].iloc[2])\n",
    "testScore2BestModel.append(avg_train_vs_test['testScore'].iloc[4])\n",
    "testScore2BestModel\n",
    "\n",
    "# Test score comparison with and without RFE\n",
    "with_vs_withoutRFE = pd.DataFrame({'Without RFE':testScore2BestModel,\n",
    "                                  'WITH RFE':testScore_rfe},\n",
    "                                 index = [model_name[2], model_name[4]]\n",
    "                            )\n",
    "with_vs_withoutRFE"
   ]
  },
  {
   "cell_type": "markdown",
   "metadata": {},
   "source": [
    "The test score is slighty drop from the non-RFE model and RFC model still has the best score. So, I will choose RFC to be tuned."
   ]
  },
  {
   "cell_type": "markdown",
   "metadata": {},
   "source": [
    "> ## 2.6 Hyperparameter Tuning"
   ]
  },
  {
   "cell_type": "code",
   "execution_count": 124,
   "metadata": {},
   "outputs": [],
   "source": [
    "hyperparam_rfc = {'clf__n_estimators': [100, 200, 300, 400],\n",
    "                  \"clf__min_samples_split\":  [2, 5, 10],\n",
    "                  \"clf__min_samples_leaf\": [1, 2, 5]\n",
    "                    }"
   ]
  },
  {
   "cell_type": "code",
   "execution_count": 125,
   "metadata": {},
   "outputs": [],
   "source": [
    "# Init signature:\n",
    "# RandomForestClassifier(\n",
    "#     n_estimators=100,\n",
    "#     *,\n",
    "#     criterion='gini',\n",
    "#     max_depth=None,\n",
    "#     min_samples_split=2,\n",
    "#     min_samples_leaf=1,\n",
    "#     min_weight_fraction_leaf=0.0,\n",
    "#     max_features='auto',\n",
    "#     max_leaf_nodes=None,\n",
    "#     min_impurity_decrease=0.0,\n",
    "#     min_impurity_split=None,\n",
    "#     bootstrap=True,\n",
    "#     oob_score=False,\n",
    "#     n_jobs=None,\n",
    "#     random_state=None,\n",
    "#     verbose=0,\n",
    "#     warm_start=False,\n",
    "#     class_weight=None,\n",
    "#     ccp_alpha=0.0,\n",
    "#     max_samples=None,\n",
    "# )"
   ]
  },
  {
   "cell_type": "code",
   "execution_count": 126,
   "metadata": {},
   "outputs": [
    {
     "name": "stdout",
     "output_type": "stream",
     "text": [
      "Fitting 5 folds for each of 36 candidates, totalling 180 fits\n"
     ]
    },
    {
     "data": {
      "text/plain": [
       "GridSearchCV(cv=StratifiedKFold(n_splits=5, random_state=None, shuffle=False),\n",
       "             estimator=Pipeline(steps=[('transformer',\n",
       "                                        ColumnTransformer(remainder='passthrough',\n",
       "                                                          transformers=[('cat '\n",
       "                                                                         'pipe',\n",
       "                                                                         Pipeline(steps=[('imputer',\n",
       "                                                                                          SimpleImputer(fill_value=0,\n",
       "                                                                                                        strategy='constant')),\n",
       "                                                                                         ('binary '\n",
       "                                                                                          'encoder',\n",
       "                                                                                          BinaryEncoder())]),\n",
       "                                                                         ['hotel',\n",
       "                                                                          'arrival_date_month',\n",
       "                                                                          'meal',\n",
       "                                                                          'distribution...\n",
       "                                                                          'previous_bookings_not_canceled',\n",
       "                                                                          'booking_changes',\n",
       "                                                                          'days_in_waiting_list',\n",
       "                                                                          'adr',\n",
       "                                                                          'required_car_parking_spaces',\n",
       "                                                                          'total_of_special_requests',\n",
       "                                                                          'total_guests'])])),\n",
       "                                       ('resampling', SMOTE()),\n",
       "                                       ('clf', RandomForestClassifier())]),\n",
       "             n_jobs=-1,\n",
       "             param_grid={'clf__min_samples_leaf': [1, 2, 5],\n",
       "                         'clf__min_samples_split': [2, 5, 10],\n",
       "                         'clf__n_estimators': [100, 200, 300, 400]},\n",
       "             scoring='precision', verbose=1)"
      ]
     },
     "execution_count": 126,
     "metadata": {},
     "output_type": "execute_result"
    }
   ],
   "source": [
    "skf = StratifiedKFold(n_splits=5)\n",
    "\n",
    "rfc_grid = GridSearchCV(all_models[2], param_grid=hyperparam_rfc, scoring='precision', cv=skf, verbose=1, n_jobs=-1)\n",
    "rfc_grid.fit(X_train, y_train)"
   ]
  },
  {
   "cell_type": "code",
   "execution_count": 130,
   "metadata": {},
   "outputs": [
    {
     "data": {
      "text/plain": [
       "{'clf__min_samples_leaf': 1,\n",
       " 'clf__min_samples_split': 2,\n",
       " 'clf__n_estimators': 200}"
      ]
     },
     "execution_count": 130,
     "metadata": {},
     "output_type": "execute_result"
    }
   ],
   "source": [
    "rfc_grid.best_params_"
   ]
  },
  {
   "cell_type": "code",
   "execution_count": 141,
   "metadata": {},
   "outputs": [
    {
     "name": "stderr",
     "output_type": "stream",
     "text": [
      "[Parallel(n_jobs=-1)]: Using backend LokyBackend with 12 concurrent workers.\n",
      "[Parallel(n_jobs=-1)]: Done   5 out of   5 | elapsed:  9.7min finished\n"
     ]
    },
    {
     "data": {
      "text/plain": [
       "array([0.85315605, 0.85855166, 0.84826884, 0.85365495, 0.8466068 ])"
      ]
     },
     "execution_count": 141,
     "metadata": {},
     "output_type": "execute_result"
    }
   ],
   "source": [
    "rfc_tuned = rfc_grid.best_estimator_\n",
    "rfc_tuned_score = cross_val_score(rfc_tuned, X_train, y_train, scoring='precision', cv=skf, n_jobs=-1, verbose=1)\n",
    "rfc_tuned_score"
   ]
  },
  {
   "cell_type": "code",
   "execution_count": 142,
   "metadata": {},
   "outputs": [
    {
     "data": {
      "text/plain": [
       "0.8520476603612546"
      ]
     },
     "execution_count": 142,
     "metadata": {},
     "output_type": "execute_result"
    }
   ],
   "source": [
    "rfc_tuned_score.mean()"
   ]
  },
  {
   "cell_type": "code",
   "execution_count": 144,
   "metadata": {},
   "outputs": [
    {
     "data": {
      "text/plain": [
       "0.8519078641228478"
      ]
     },
     "execution_count": 144,
     "metadata": {},
     "output_type": "execute_result"
    }
   ],
   "source": [
    "y_pred_rfc_tuned = rfc_tuned.predict(X_test)\n",
    "precision_score(y_test, y_pred_rfc_tuned)"
   ]
  },
  {
   "cell_type": "code",
   "execution_count": 132,
   "metadata": {},
   "outputs": [
    {
     "data": {
      "text/html": [
       "<div>\n",
       "<style scoped>\n",
       "    .dataframe tbody tr th:only-of-type {\n",
       "        vertical-align: middle;\n",
       "    }\n",
       "\n",
       "    .dataframe tbody tr th {\n",
       "        vertical-align: top;\n",
       "    }\n",
       "\n",
       "    .dataframe thead th {\n",
       "        text-align: right;\n",
       "    }\n",
       "</style>\n",
       "<table border=\"1\" class=\"dataframe\">\n",
       "  <thead>\n",
       "    <tr style=\"text-align: right;\">\n",
       "      <th></th>\n",
       "      <th>mean_fit_time</th>\n",
       "      <th>std_fit_time</th>\n",
       "      <th>mean_score_time</th>\n",
       "      <th>std_score_time</th>\n",
       "      <th>param_clf__min_samples_leaf</th>\n",
       "      <th>param_clf__min_samples_split</th>\n",
       "      <th>param_clf__n_estimators</th>\n",
       "      <th>params</th>\n",
       "      <th>split0_test_score</th>\n",
       "      <th>split1_test_score</th>\n",
       "      <th>split2_test_score</th>\n",
       "      <th>split3_test_score</th>\n",
       "      <th>split4_test_score</th>\n",
       "      <th>mean_test_score</th>\n",
       "      <th>std_test_score</th>\n",
       "      <th>rank_test_score</th>\n",
       "    </tr>\n",
       "  </thead>\n",
       "  <tbody>\n",
       "    <tr>\n",
       "      <th>1</th>\n",
       "      <td>102.255559</td>\n",
       "      <td>1.319300</td>\n",
       "      <td>2.936177</td>\n",
       "      <td>0.244833</td>\n",
       "      <td>1</td>\n",
       "      <td>2</td>\n",
       "      <td>200</td>\n",
       "      <td>{'clf__min_samples_leaf': 1, 'clf__min_samples...</td>\n",
       "      <td>0.868985</td>\n",
       "      <td>0.865734</td>\n",
       "      <td>0.866796</td>\n",
       "      <td>0.859611</td>\n",
       "      <td>0.856436</td>\n",
       "      <td>0.863512</td>\n",
       "      <td>0.004711</td>\n",
       "      <td>1</td>\n",
       "    </tr>\n",
       "    <tr>\n",
       "      <th>3</th>\n",
       "      <td>158.125736</td>\n",
       "      <td>4.323462</td>\n",
       "      <td>5.228753</td>\n",
       "      <td>0.258270</td>\n",
       "      <td>1</td>\n",
       "      <td>2</td>\n",
       "      <td>400</td>\n",
       "      <td>{'clf__min_samples_leaf': 1, 'clf__min_samples...</td>\n",
       "      <td>0.868049</td>\n",
       "      <td>0.867482</td>\n",
       "      <td>0.867245</td>\n",
       "      <td>0.856580</td>\n",
       "      <td>0.857205</td>\n",
       "      <td>0.863312</td>\n",
       "      <td>0.005252</td>\n",
       "      <td>2</td>\n",
       "    </tr>\n",
       "    <tr>\n",
       "      <th>7</th>\n",
       "      <td>162.018987</td>\n",
       "      <td>6.742612</td>\n",
       "      <td>5.374843</td>\n",
       "      <td>0.297485</td>\n",
       "      <td>1</td>\n",
       "      <td>5</td>\n",
       "      <td>400</td>\n",
       "      <td>{'clf__min_samples_leaf': 1, 'clf__min_samples...</td>\n",
       "      <td>0.868160</td>\n",
       "      <td>0.866597</td>\n",
       "      <td>0.869167</td>\n",
       "      <td>0.855360</td>\n",
       "      <td>0.856475</td>\n",
       "      <td>0.863152</td>\n",
       "      <td>0.005974</td>\n",
       "      <td>3</td>\n",
       "    </tr>\n",
       "    <tr>\n",
       "      <th>0</th>\n",
       "      <td>72.749593</td>\n",
       "      <td>2.716784</td>\n",
       "      <td>1.559536</td>\n",
       "      <td>0.093361</td>\n",
       "      <td>1</td>\n",
       "      <td>2</td>\n",
       "      <td>100</td>\n",
       "      <td>{'clf__min_samples_leaf': 1, 'clf__min_samples...</td>\n",
       "      <td>0.868239</td>\n",
       "      <td>0.867676</td>\n",
       "      <td>0.866208</td>\n",
       "      <td>0.855907</td>\n",
       "      <td>0.857373</td>\n",
       "      <td>0.863081</td>\n",
       "      <td>0.005321</td>\n",
       "      <td>4</td>\n",
       "    </tr>\n",
       "    <tr>\n",
       "      <th>2</th>\n",
       "      <td>126.783093</td>\n",
       "      <td>5.564243</td>\n",
       "      <td>3.994754</td>\n",
       "      <td>0.102347</td>\n",
       "      <td>1</td>\n",
       "      <td>2</td>\n",
       "      <td>300</td>\n",
       "      <td>{'clf__min_samples_leaf': 1, 'clf__min_samples...</td>\n",
       "      <td>0.866050</td>\n",
       "      <td>0.868122</td>\n",
       "      <td>0.866388</td>\n",
       "      <td>0.855409</td>\n",
       "      <td>0.856023</td>\n",
       "      <td>0.862399</td>\n",
       "      <td>0.005505</td>\n",
       "      <td>5</td>\n",
       "    </tr>\n",
       "  </tbody>\n",
       "</table>\n",
       "</div>"
      ],
      "text/plain": [
       "   mean_fit_time  std_fit_time  mean_score_time  std_score_time  \\\n",
       "1     102.255559      1.319300         2.936177        0.244833   \n",
       "3     158.125736      4.323462         5.228753        0.258270   \n",
       "7     162.018987      6.742612         5.374843        0.297485   \n",
       "0      72.749593      2.716784         1.559536        0.093361   \n",
       "2     126.783093      5.564243         3.994754        0.102347   \n",
       "\n",
       "  param_clf__min_samples_leaf param_clf__min_samples_split  \\\n",
       "1                           1                            2   \n",
       "3                           1                            2   \n",
       "7                           1                            5   \n",
       "0                           1                            2   \n",
       "2                           1                            2   \n",
       "\n",
       "  param_clf__n_estimators                                             params  \\\n",
       "1                     200  {'clf__min_samples_leaf': 1, 'clf__min_samples...   \n",
       "3                     400  {'clf__min_samples_leaf': 1, 'clf__min_samples...   \n",
       "7                     400  {'clf__min_samples_leaf': 1, 'clf__min_samples...   \n",
       "0                     100  {'clf__min_samples_leaf': 1, 'clf__min_samples...   \n",
       "2                     300  {'clf__min_samples_leaf': 1, 'clf__min_samples...   \n",
       "\n",
       "   split0_test_score  split1_test_score  split2_test_score  split3_test_score  \\\n",
       "1           0.868985           0.865734           0.866796           0.859611   \n",
       "3           0.868049           0.867482           0.867245           0.856580   \n",
       "7           0.868160           0.866597           0.869167           0.855360   \n",
       "0           0.868239           0.867676           0.866208           0.855907   \n",
       "2           0.866050           0.868122           0.866388           0.855409   \n",
       "\n",
       "   split4_test_score  mean_test_score  std_test_score  rank_test_score  \n",
       "1           0.856436         0.863512        0.004711                1  \n",
       "3           0.857205         0.863312        0.005252                2  \n",
       "7           0.856475         0.863152        0.005974                3  \n",
       "0           0.857373         0.863081        0.005321                4  \n",
       "2           0.856023         0.862399        0.005505                5  "
      ]
     },
     "execution_count": 132,
     "metadata": {},
     "output_type": "execute_result"
    }
   ],
   "source": [
    "pd.DataFrame(rfc_grid.cv_results_).sort_values('rank_test_score').head()"
   ]
  },
  {
   "cell_type": "code",
   "execution_count": 145,
   "metadata": {},
   "outputs": [
    {
     "name": "stdout",
     "output_type": "stream",
     "text": [
      "Score Before Tuning: 0.8643481168795232\n",
      "Score After Tuning: 0.8519078641228478\n"
     ]
    }
   ],
   "source": [
    "print(f'Score Before Tuning: {testScore[2]}')\n",
    "print(f'Score After Tuning: {precision_score(y_test, y_pred_rfc_tuned)}')"
   ]
  },
  {
   "cell_type": "markdown",
   "metadata": {},
   "source": [
    "> __The tuning is failed to make the model better. So, I will use the RFC model with default parameter__"
   ]
  },
  {
   "cell_type": "markdown",
   "metadata": {},
   "source": [
    "> ## 2.7 Threshold Adjustment"
   ]
  },
  {
   "cell_type": "code",
   "execution_count": 146,
   "metadata": {},
   "outputs": [
    {
     "data": {
      "image/png": "[encoded data removed]",
      "text/plain": [
       "<Figure size 432x288 with 1 Axes>"
      ]
     },
     "metadata": {},
     "output_type": "display_data"
    }
   ],
   "source": [
    "plot_precision_recall_curve(default_models[2], X_test, y_test)\n",
    "plt.show()"
   ]
  },
  {
   "cell_type": "markdown",
   "metadata": {},
   "source": [
    "The precision is the ratio tp / (tp + fp) where tp is the number of true positives and fp the number of false positives. The precision is intuitively the ability of the classifier not to label as positive a sample that is negative.\n",
    "\n",
    "The recall is the ratio tp / (tp + fn) where tp is the number of true positives and fn the number of false negatives. The recall is intuitively the ability of the classifier to find all the positive samples.\n",
    "\n",
    "\n",
    "1. FN is a condition when the __MODEL__ predict THE GUESTS ARE COMING __(0)__ but __ACTUALLY__ THE BOOKINGS ARE CANCELLED __(1)__\n",
    "    - High numbers of FN will cause __unoptimal revenue__ due to many rooms are reserved (and can not be booked by other potential guests) but the booking is cancelled\n",
    "\n",
    "\n",
    "2. FP is a condition when the __MODEL__ predict THE BOOKINGS ARE CANCELLED __(1)__ but __ACTUALLY__ THE GUESTS ARE COMING __(0)__\n",
    "    - High numbers of FP will cause __overbooking__.\n",
    "        -  overbooking can force the hotel to deny service to a customer; this can be a very bad experience for the guests and may result in online __complaints and generation of a negative impact in terms of social reputation__ \n",
    "        - the hotel also __lose future revenue__ from this overbooking, since the guests who experienced bad service have strong tendency to avoid that hotel.\n",
    "        - overbooking also cause the loss that occurs as a result of the hotel’s obligation to compensate the customer, including reallocation costs\n",
    "\n",
    "\n",
    "<img src=\"https://static.packt-cdn.com/products/9781838555078/graphics/C13314_06_05.jpg\" alt=\"Hotel Lobby\" style=\"width:690px;height:345px;\">\n",
    "\n",
    "As I write before, I will focus more to precision score because I want the FP as less as possible. We know that there will be a trade-off in adjusting thresholds. Hence, I will choose a thresholds that will improve precision score without reducing recall score too much."
   ]
  },
  {
   "cell_type": "code",
   "execution_count": 152,
   "metadata": {},
   "outputs": [
    {
     "data": {
      "text/plain": [
       "array([0.00000000e+00, 4.00000000e-04, 1.00000000e-03, ...,\n",
       "       9.93333333e-01, 9.96250000e-01, 1.00000000e+00])"
      ]
     },
     "execution_count": 152,
     "metadata": {},
     "output_type": "execute_result"
    }
   ],
   "source": [
    "y_scores = default_models[2].predict_proba(X_test)[:, 1]\n",
    "p, r, thresholds = precision_recall_curve(y_test, y_scores)\n",
    "thresholds"
   ]
  },
  {
   "cell_type": "code",
   "execution_count": 153,
   "metadata": {},
   "outputs": [
    {
     "data": {
      "image/png": "[encoded data removed]",
      "text/plain": [
       "<Figure size 576x360 with 1 Axes>"
      ]
     },
     "metadata": {},
     "output_type": "display_data"
    }
   ],
   "source": [
    "def plot_precision_recall_vs_threshold(p, r, thresholds): \n",
    "    fig = plt.figure(figsize= (8,5))\n",
    "    plt.plot(thresholds, p[:-1], \"b--\", label=\"Precision\")\n",
    "    plt.plot(thresholds, r[:-1], \"g-\", label=\"Recall\")\n",
    "    plt.legend()\n",
    "\n",
    "plot_precision_recall_vs_threshold(p, r, thresholds)"
   ]
  },
  {
   "cell_type": "code",
   "execution_count": 154,
   "metadata": {},
   "outputs": [
    {
     "name": "stdout",
     "output_type": "stream",
     "text": [
      "1196\n",
      "1196\n",
      "1195\n"
     ]
    }
   ],
   "source": [
    "print(len(p))\n",
    "print(len(r))\n",
    "print(len(thresholds))"
   ]
  },
  {
   "cell_type": "markdown",
   "metadata": {},
   "source": [
    "According to [sklearn documentation](https://scikit-learn.org/stable/modules/generated/sklearn.metrics.precision_recall_curve.html), __the last precision and the recall value should be ignored since the last precision and recall values are always 1. and 0. respectively and do not have a corresponding threshold__. This ensures that the graph starts on the y axis. That is why the dimension of threshold different with precision and recall. I will remove the last value of precision and recall array."
   ]
  },
  {
   "cell_type": "code",
   "execution_count": 155,
   "metadata": {},
   "outputs": [
    {
     "name": "stdout",
     "output_type": "stream",
     "text": [
      "1195\n",
      "1195\n",
      "1195\n"
     ]
    }
   ],
   "source": [
    "thresholds_ = thresholds.tolist()\n",
    "p_ = p.tolist()\n",
    "r_ = r.tolist()\n",
    "del p_[1195]\n",
    "del r_[1195]\n",
    "\n",
    "print(len(p_))\n",
    "print(len(r_))\n",
    "print(len(thresholds))"
   ]
  },
  {
   "cell_type": "code",
   "execution_count": 156,
   "metadata": {},
   "outputs": [
    {
     "data": {
      "text/html": [
       "<div>\n",
       "<style scoped>\n",
       "    .dataframe tbody tr th:only-of-type {\n",
       "        vertical-align: middle;\n",
       "    }\n",
       "\n",
       "    .dataframe tbody tr th {\n",
       "        vertical-align: top;\n",
       "    }\n",
       "\n",
       "    .dataframe thead th {\n",
       "        text-align: right;\n",
       "    }\n",
       "</style>\n",
       "<table border=\"1\" class=\"dataframe\">\n",
       "  <thead>\n",
       "    <tr style=\"text-align: right;\">\n",
       "      <th></th>\n",
       "      <th>precision</th>\n",
       "      <th>recall</th>\n",
       "      <th>threshold</th>\n",
       "    </tr>\n",
       "  </thead>\n",
       "  <tbody>\n",
       "    <tr>\n",
       "      <th>828</th>\n",
       "      <td>0.860297</td>\n",
       "      <td>0.834277</td>\n",
       "      <td>0.5</td>\n",
       "    </tr>\n",
       "  </tbody>\n",
       "</table>\n",
       "</div>"
      ],
      "text/plain": [
       "     precision    recall  threshold\n",
       "828   0.860297  0.834277        0.5"
      ]
     },
     "execution_count": 156,
     "metadata": {},
     "output_type": "execute_result"
    }
   ],
   "source": [
    "pr_df = pd.DataFrame({'precision': p_, 'recall': r_, 'threshold': thresholds_})\n",
    "# pr_df\n",
    "# \n",
    "pr_df[pr_df['threshold']==0.5]"
   ]
  },
  {
   "cell_type": "code",
   "execution_count": 173,
   "metadata": {},
   "outputs": [
    {
     "data": {
      "text/html": [
       "<div>\n",
       "<style scoped>\n",
       "    .dataframe tbody tr th:only-of-type {\n",
       "        vertical-align: middle;\n",
       "    }\n",
       "\n",
       "    .dataframe tbody tr th {\n",
       "        vertical-align: top;\n",
       "    }\n",
       "\n",
       "    .dataframe thead th {\n",
       "        text-align: right;\n",
       "    }\n",
       "</style>\n",
       "<table border=\"1\" class=\"dataframe\">\n",
       "  <thead>\n",
       "    <tr style=\"text-align: right;\">\n",
       "      <th></th>\n",
       "      <th>precision</th>\n",
       "      <th>recall</th>\n",
       "      <th>threshold</th>\n",
       "    </tr>\n",
       "  </thead>\n",
       "  <tbody>\n",
       "    <tr>\n",
       "      <th>916</th>\n",
       "      <td>0.900092</td>\n",
       "      <td>0.776620</td>\n",
       "      <td>0.590833</td>\n",
       "    </tr>\n",
       "    <tr>\n",
       "      <th>917</th>\n",
       "      <td>0.900210</td>\n",
       "      <td>0.776620</td>\n",
       "      <td>0.591905</td>\n",
       "    </tr>\n",
       "    <tr>\n",
       "      <th>918</th>\n",
       "      <td>0.900197</td>\n",
       "      <td>0.776507</td>\n",
       "      <td>0.593333</td>\n",
       "    </tr>\n",
       "    <tr>\n",
       "      <th>919</th>\n",
       "      <td>0.900315</td>\n",
       "      <td>0.776507</td>\n",
       "      <td>0.594167</td>\n",
       "    </tr>\n",
       "    <tr>\n",
       "      <th>920</th>\n",
       "      <td>0.900302</td>\n",
       "      <td>0.776393</td>\n",
       "      <td>0.595000</td>\n",
       "    </tr>\n",
       "    <tr>\n",
       "      <th>921</th>\n",
       "      <td>0.900420</td>\n",
       "      <td>0.776393</td>\n",
       "      <td>0.596667</td>\n",
       "    </tr>\n",
       "    <tr>\n",
       "      <th>922</th>\n",
       "      <td>0.900526</td>\n",
       "      <td>0.776280</td>\n",
       "      <td>0.598333</td>\n",
       "    </tr>\n",
       "    <tr>\n",
       "      <th>923</th>\n",
       "      <td>0.900644</td>\n",
       "      <td>0.776280</td>\n",
       "      <td>0.600000</td>\n",
       "    </tr>\n",
       "    <tr>\n",
       "      <th>924</th>\n",
       "      <td>0.903941</td>\n",
       "      <td>0.771749</td>\n",
       "      <td>0.602500</td>\n",
       "    </tr>\n",
       "    <tr>\n",
       "      <th>925</th>\n",
       "      <td>0.903928</td>\n",
       "      <td>0.771636</td>\n",
       "      <td>0.604118</td>\n",
       "    </tr>\n",
       "    <tr>\n",
       "      <th>926</th>\n",
       "      <td>0.904048</td>\n",
       "      <td>0.771636</td>\n",
       "      <td>0.605000</td>\n",
       "    </tr>\n",
       "    <tr>\n",
       "      <th>927</th>\n",
       "      <td>0.904155</td>\n",
       "      <td>0.771522</td>\n",
       "      <td>0.610000</td>\n",
       "    </tr>\n",
       "    <tr>\n",
       "      <th>928</th>\n",
       "      <td>0.907129</td>\n",
       "      <td>0.766765</td>\n",
       "      <td>0.611526</td>\n",
       "    </tr>\n",
       "    <tr>\n",
       "      <th>929</th>\n",
       "      <td>0.907105</td>\n",
       "      <td>0.766538</td>\n",
       "      <td>0.613333</td>\n",
       "    </tr>\n",
       "    <tr>\n",
       "      <th>930</th>\n",
       "      <td>0.907226</td>\n",
       "      <td>0.766538</td>\n",
       "      <td>0.613750</td>\n",
       "    </tr>\n",
       "    <tr>\n",
       "      <th>931</th>\n",
       "      <td>0.907348</td>\n",
       "      <td>0.766538</td>\n",
       "      <td>0.614667</td>\n",
       "    </tr>\n",
       "    <tr>\n",
       "      <th>932</th>\n",
       "      <td>0.907335</td>\n",
       "      <td>0.766425</td>\n",
       "      <td>0.615000</td>\n",
       "    </tr>\n",
       "    <tr>\n",
       "      <th>933</th>\n",
       "      <td>0.907323</td>\n",
       "      <td>0.766312</td>\n",
       "      <td>0.615000</td>\n",
       "    </tr>\n",
       "    <tr>\n",
       "      <th>934</th>\n",
       "      <td>0.907311</td>\n",
       "      <td>0.766198</td>\n",
       "      <td>0.616000</td>\n",
       "    </tr>\n",
       "    <tr>\n",
       "      <th>935</th>\n",
       "      <td>0.907298</td>\n",
       "      <td>0.766085</td>\n",
       "      <td>0.618616</td>\n",
       "    </tr>\n",
       "  </tbody>\n",
       "</table>\n",
       "</div>"
      ],
      "text/plain": [
       "     precision    recall  threshold\n",
       "916   0.900092  0.776620   0.590833\n",
       "917   0.900210  0.776620   0.591905\n",
       "918   0.900197  0.776507   0.593333\n",
       "919   0.900315  0.776507   0.594167\n",
       "920   0.900302  0.776393   0.595000\n",
       "921   0.900420  0.776393   0.596667\n",
       "922   0.900526  0.776280   0.598333\n",
       "923   0.900644  0.776280   0.600000\n",
       "924   0.903941  0.771749   0.602500\n",
       "925   0.903928  0.771636   0.604118\n",
       "926   0.904048  0.771636   0.605000\n",
       "927   0.904155  0.771522   0.610000\n",
       "928   0.907129  0.766765   0.611526\n",
       "929   0.907105  0.766538   0.613333\n",
       "930   0.907226  0.766538   0.613750\n",
       "931   0.907348  0.766538   0.614667\n",
       "932   0.907335  0.766425   0.615000\n",
       "933   0.907323  0.766312   0.615000\n",
       "934   0.907311  0.766198   0.616000\n",
       "935   0.907298  0.766085   0.618616"
      ]
     },
     "execution_count": 173,
     "metadata": {},
     "output_type": "execute_result"
    }
   ],
   "source": [
    "pr_df[pr_df['precision']>0.90].sort_values('recall', ascending=False).head(20)"
   ]
  },
  {
   "cell_type": "markdown",
   "metadata": {},
   "source": [
    "Let's see the 0.590833 threshold"
   ]
  },
  {
   "cell_type": "code",
   "execution_count": 174,
   "metadata": {},
   "outputs": [
    {
     "data": {
      "text/plain": [
       "precision    0.900092\n",
       "recall       0.776620\n",
       "threshold    0.590833\n",
       "Name: 916, dtype: float64"
      ]
     },
     "execution_count": 174,
     "metadata": {},
     "output_type": "execute_result"
    }
   ],
   "source": [
    "# Best threshold -> 0.590833\n",
    "pr_df.iloc[916]"
   ]
  },
  {
   "cell_type": "code",
   "execution_count": null,
   "metadata": {},
   "outputs": [],
   "source": [
    "# from numpy import argmax\n",
    "\n",
    "# # convert to f score\n",
    "# fscore = (2 * p * r) / (p + r)\n",
    "# # locate the index of the largest f score\n",
    "# ix = argmax(fscore)\n",
    "# print('Best Threshold=%f, F-Score=%.3f' % (thresholds[ix], fscore[ix]))"
   ]
  },
  {
   "cell_type": "code",
   "execution_count": null,
   "metadata": {},
   "outputs": [],
   "source": [
    "# # Precision and recall score for the best fscore\n",
    "# pr_df[pr_df['threshold']>=0.47]\n",
    "# pr_df.iloc[791]"
   ]
  },
  {
   "cell_type": "code",
   "execution_count": 175,
   "metadata": {},
   "outputs": [
    {
     "data": {
      "text/html": [
       "<div>\n",
       "<style scoped>\n",
       "    .dataframe tbody tr th:only-of-type {\n",
       "        vertical-align: middle;\n",
       "    }\n",
       "\n",
       "    .dataframe tbody tr th {\n",
       "        vertical-align: top;\n",
       "    }\n",
       "\n",
       "    .dataframe thead th {\n",
       "        text-align: right;\n",
       "    }\n",
       "</style>\n",
       "<table border=\"1\" class=\"dataframe\">\n",
       "  <thead>\n",
       "    <tr style=\"text-align: right;\">\n",
       "      <th></th>\n",
       "      <th>precision</th>\n",
       "      <th>recall</th>\n",
       "      <th>threshold</th>\n",
       "    </tr>\n",
       "  </thead>\n",
       "  <tbody>\n",
       "    <tr>\n",
       "      <th>828</th>\n",
       "      <td>0.860297</td>\n",
       "      <td>0.834277</td>\n",
       "      <td>0.500000</td>\n",
       "    </tr>\n",
       "    <tr>\n",
       "      <th>916</th>\n",
       "      <td>0.900092</td>\n",
       "      <td>0.776620</td>\n",
       "      <td>0.590833</td>\n",
       "    </tr>\n",
       "  </tbody>\n",
       "</table>\n",
       "</div>"
      ],
      "text/plain": [
       "     precision    recall  threshold\n",
       "828   0.860297  0.834277   0.500000\n",
       "916   0.900092  0.776620   0.590833"
      ]
     },
     "execution_count": 175,
     "metadata": {},
     "output_type": "execute_result"
    }
   ],
   "source": [
    "# Comparison between best threshold with default threshold (0.5)\n",
    "pr_df.iloc[[828, 916]]"
   ]
  },
  {
   "cell_type": "code",
   "execution_count": 176,
   "metadata": {},
   "outputs": [
    {
     "name": "stdout",
     "output_type": "stream",
     "text": [
      "Precision score improvement: 3.9795000000000025\n",
      "Recall score reduction: 5.765700000000007\n"
     ]
    }
   ],
   "source": [
    "print(f'Precision score improvement: {(0.900092-0.860297)*100}')\n",
    "print(f'Recall score reduction: {(0.834277-0.776620)*100}')"
   ]
  },
  {
   "cell_type": "markdown",
   "metadata": {},
   "source": [
    "The threshold of 0.590833 increase precision score as much as almost 4% while losing recall score 5.7%"
   ]
  },
  {
   "cell_type": "code",
   "execution_count": 177,
   "metadata": {},
   "outputs": [
    {
     "name": "stdout",
     "output_type": "stream",
     "text": [
      "DEFAULT THRESHOLD\n",
      "              precision    recall  f1-score   support\n",
      "\n",
      "           0       0.90      0.92      0.91     14918\n",
      "           1       0.86      0.83      0.85      8828\n",
      "\n",
      "    accuracy                           0.89     23746\n",
      "   macro avg       0.88      0.88      0.88     23746\n",
      "weighted avg       0.89      0.89      0.89     23746\n",
      "\n",
      "\n",
      "NEW THRESHOLD\n",
      "              precision    recall  f1-score   support\n",
      "\n",
      "           0       0.88      0.95      0.91     14918\n",
      "           1       0.90      0.78      0.83      8828\n",
      "\n",
      "    accuracy                           0.88     23746\n",
      "   macro avg       0.89      0.86      0.87     23746\n",
      "weighted avg       0.89      0.88      0.88     23746\n",
      "\n"
     ]
    }
   ],
   "source": [
    "# Classification report comparison\n",
    "new_thr = 0.590833\n",
    "y_pred = default_models[2].predict(X_test) # threshold 0.5\n",
    "y_pred_newthr = [1 if i > new_thr else 0 for i in default_models[2].predict_proba(X_test)[:,1]] # threshold 0.590833\n",
    "\n",
    "print('DEFAULT THRESHOLD')\n",
    "print(classification_report(y_test, y_pred))\n",
    "print('')\n",
    "print('NEW THRESHOLD')\n",
    "print(classification_report(y_test, y_pred_newthr))"
   ]
  },
  {
   "cell_type": "code",
   "execution_count": 204,
   "metadata": {},
   "outputs": [
    {
     "data": {
      "image/png": "[encoded data removed]",
      "text/plain": [
       "<Figure size 432x288 with 2 Axes>"
      ]
     },
     "metadata": {},
     "output_type": "display_data"
    }
   ],
   "source": [
    "plt.style.use('bmh')\n",
    "plot_confusion_matrix(default_models[2], X_test, y_test)\n",
    "plt.show()"
   ]
  },
  {
   "cell_type": "code",
   "execution_count": 205,
   "metadata": {},
   "outputs": [
    {
     "data": {
      "image/png": "[encoded data removed]",
      "text/plain": [
       "<Figure size 432x288 with 2 Axes>"
      ]
     },
     "metadata": {},
     "output_type": "display_data"
    }
   ],
   "source": [
    "plt.style.use('bmh')\n",
    "plot_confusion_matrix(default_models[2], X_train, y_train)\n",
    "plt.show()"
   ]
  },
  {
   "cell_type": "markdown",
   "metadata": {},
   "source": [
    "<a id=\"1\"></a>\n",
    "<h1 style=\"color:White; background-color:#212121; font-size:250%; text-align:center; border-radius: 10px; padding-top: 10px; padding-bottom: 10px\">3. Model Deployment</h1>"
   ]
  },
  {
   "cell_type": "markdown",
   "metadata": {},
   "source": [
    "> ## 3.1 Pickle Save and Load"
   ]
  },
  {
   "cell_type": "code",
   "execution_count": 209,
   "metadata": {},
   "outputs": [],
   "source": [
    "# Pickle save\n",
    "RFC_best = default_models[2]\n",
    "RFC_best.fit(X,y)\n",
    "filenamenew = 'finalmodelRFCfit.sav'\n",
    "pickle.dump(default_models[2], open(filenamenew, 'wb'))"
   ]
  },
  {
   "cell_type": "code",
   "execution_count": 210,
   "metadata": {},
   "outputs": [],
   "source": [
    "# Pickle load\n",
    "file = 'finalmodelRFCfit.sav'\n",
    "model_loaded = pickle.load((open(file, 'rb')))"
   ]
  },
  {
   "cell_type": "code",
   "execution_count": 211,
   "metadata": {},
   "outputs": [
    {
     "data": {
      "text/plain": [
       "Pipeline(steps=[('transformer',\n",
       "                 ColumnTransformer(remainder='passthrough',\n",
       "                                   transformers=[('cat pipe',\n",
       "                                                  Pipeline(steps=[('imputer',\n",
       "                                                                   SimpleImputer(fill_value=0,\n",
       "                                                                                 strategy='constant')),\n",
       "                                                                  ('binary '\n",
       "                                                                   'encoder',\n",
       "                                                                   BinaryEncoder())]),\n",
       "                                                  ['hotel',\n",
       "                                                   'arrival_date_month', 'meal',\n",
       "                                                   'distribution_channel',\n",
       "                                                   'is_repeated_guest',\n",
       "                                                   'assigned_room_type',\n",
       "                                                   'agent', 'customer_type',\n",
       "                                                   'countries'])...\n",
       "                                                                   'scaler',\n",
       "                                                                   RobustScaler())]),\n",
       "                                                  ['lead_time',\n",
       "                                                   'arrival_date_day_of_month',\n",
       "                                                   'stays_in_weekend_nights',\n",
       "                                                   'stays_in_week_nights',\n",
       "                                                   'previous_cancellations',\n",
       "                                                   'previous_bookings_not_canceled',\n",
       "                                                   'booking_changes',\n",
       "                                                   'days_in_waiting_list',\n",
       "                                                   'adr',\n",
       "                                                   'required_car_parking_spaces',\n",
       "                                                   'total_of_special_requests',\n",
       "                                                   'total_guests'])])),\n",
       "                ('resampling', SMOTE()), ('clf', RandomForestClassifier())])"
      ]
     },
     "execution_count": 211,
     "metadata": {},
     "output_type": "execute_result"
    }
   ],
   "source": [
    "model_loaded"
   ]
  },
  {
   "cell_type": "code",
   "execution_count": 212,
   "metadata": {},
   "outputs": [],
   "source": [
    "sample_data = pd.DataFrame({\n",
    "    'hotel': ['Resort Hotel'],\n",
    "    'lead_time': [91],\n",
    "    'arrival_date_month':['July'],\n",
    "    'arrival_date_day_of_month':[10],\n",
    "    'stays_in_weekend_nights':[0],\n",
    "    'stays_in_week_nights':[2],\n",
    "    'meal': ['BB'],\n",
    "    'distribution_channel':['TA/TO'],\n",
    "    'is_repeated_guest': [0],\n",
    "    'previous_cancellations': [0],\n",
    "    'previous_bookings_not_canceled': [0],\n",
    "    'assigned_room_type': ['A'],\n",
    "    'booking_changes': [0],\n",
    "    'agent': [240],\n",
    "    'days_in_waiting_list': [0],\n",
    "    'customer_type': ['Transient'],\n",
    "    'adr': [73.8],\n",
    "    'required_car_parking_spaces': [0],\n",
    "    'total_of_special_requests': [1],\n",
    "    'total_guests': [2],\n",
    "    'countries': ['PRT'],\n",
    "})"
   ]
  },
  {
   "cell_type": "code",
   "execution_count": 213,
   "metadata": {},
   "outputs": [
    {
     "data": {
      "text/plain": [
       "array([0], dtype=int64)"
      ]
     },
     "execution_count": 213,
     "metadata": {},
     "output_type": "execute_result"
    }
   ],
   "source": [
    "model_loaded.predict(sample_data)"
   ]
  },
  {
   "cell_type": "code",
   "execution_count": 215,
   "metadata": {},
   "outputs": [
    {
     "name": "stdout",
     "output_type": "stream",
     "text": [
      "The Guest is likely to COME\n",
      "Probability to cancel: [0.09]\n"
     ]
    }
   ],
   "source": [
    "proba = model_loaded.predict_proba(sample_data)[:,1]\n",
    "\n",
    "if proba >= 0.590833:\n",
    "    print('The Booking is likely to be CANCELLED')\n",
    "else:\n",
    "    print('The Guest is likely to COME')\n",
    "    \n",
    "print(f'Probability to cancel: {model_loaded.predict_proba(sample_data)[:,1]}')"
   ]
  },
  {
   "cell_type": "code",
   "execution_count": null,
   "metadata": {},
   "outputs": [],
   "source": []
  },
  {
   "cell_type": "code",
   "execution_count": null,
   "metadata": {},
   "outputs": [],
   "source": []
  },
  {
   "cell_type": "code",
   "execution_count": null,
   "metadata": {},
   "outputs": [],
   "source": []
  },
  {
   "cell_type": "markdown",
   "metadata": {},
   "source": [
    "#### Without FIT"
   ]
  },
  {
   "cell_type": "code",
   "execution_count": 178,
   "metadata": {},
   "outputs": [],
   "source": [
    "# Pickle save\n",
    "filenamenew = 'finalmodel.sav'\n",
    "pickle.dump(default_models[2], open(filenamenew, 'wb'))"
   ]
  },
  {
   "cell_type": "code",
   "execution_count": 179,
   "metadata": {},
   "outputs": [],
   "source": [
    "# Pickle load\n",
    "filename = 'finalmodel.sav'\n",
    "loaded_model = pickle.load((open(filename, 'rb')))"
   ]
  },
  {
   "cell_type": "code",
   "execution_count": 180,
   "metadata": {},
   "outputs": [
    {
     "data": {
      "text/plain": [
       "Pipeline(steps=[('transformer',\n",
       "                 ColumnTransformer(remainder='passthrough',\n",
       "                                   transformers=[('cat pipe',\n",
       "                                                  Pipeline(steps=[('imputer',\n",
       "                                                                   SimpleImputer(fill_value=0,\n",
       "                                                                                 strategy='constant')),\n",
       "                                                                  ('binary '\n",
       "                                                                   'encoder',\n",
       "                                                                   BinaryEncoder())]),\n",
       "                                                  ['hotel',\n",
       "                                                   'arrival_date_month', 'meal',\n",
       "                                                   'distribution_channel',\n",
       "                                                   'is_repeated_guest',\n",
       "                                                   'assigned_room_type',\n",
       "                                                   'agent', 'customer_type',\n",
       "                                                   'countries'])...\n",
       "                                                                   'scaler',\n",
       "                                                                   RobustScaler())]),\n",
       "                                                  ['lead_time',\n",
       "                                                   'arrival_date_day_of_month',\n",
       "                                                   'stays_in_weekend_nights',\n",
       "                                                   'stays_in_week_nights',\n",
       "                                                   'previous_cancellations',\n",
       "                                                   'previous_bookings_not_canceled',\n",
       "                                                   'booking_changes',\n",
       "                                                   'days_in_waiting_list',\n",
       "                                                   'adr',\n",
       "                                                   'required_car_parking_spaces',\n",
       "                                                   'total_of_special_requests',\n",
       "                                                   'total_guests'])])),\n",
       "                ('resampling', SMOTE()), ('clf', RandomForestClassifier())])"
      ]
     },
     "execution_count": 180,
     "metadata": {},
     "output_type": "execute_result"
    }
   ],
   "source": [
    "loaded_model"
   ]
  },
  {
   "cell_type": "markdown",
   "metadata": {},
   "source": [
    "> ## 3.2 Predict New Observation Testing"
   ]
  },
  {
   "cell_type": "code",
   "execution_count": 196,
   "metadata": {},
   "outputs": [
    {
     "name": "stdin",
     "output_type": "stream",
     "text": [
      "Hotel Type:  Resort Hotel\n",
      "Lead Time:  91\n",
      "Arrival Month:  July\n",
      "Arrival Date:  10\n",
      "Nights Spent in Weekends:  0\n",
      "Nights Spent in Weekdays:  2\n",
      "Meal:  BB\n",
      "Booking Channel:  TA/TO\n",
      "Repeated Guest?:  0\n",
      "Number of Previous Cancellation:  0\n",
      "Number of Bookings Not Cancelled:  0\n",
      "Room Type:  A\n",
      "Number of Booking Changes:  0\n",
      "Agent Code:  240\n",
      "Days in Waiting List:  0\n",
      "Customer Type:  Transient\n",
      "Price:  73.8\n",
      "Required Car Parking Spaces:  0\n",
      "Number of Special Requests:  1\n",
      "Number of Guests:  2\n",
      "Country of Origin:  PRT\n"
     ]
    },
    {
     "name": "stdout",
     "output_type": "stream",
     "text": [
      "The Guest is likely to COME\n",
      "Probability to cancel: [0.11]\n"
     ]
    }
   ],
   "source": [
    "# front-end\n",
    "hotel_ = str(input('Hotel Type: '))\n",
    "lead_time_ = float(input('Lead Time: '))\n",
    "arrival_date_month_ = str(input('Arrival Month: ')) \n",
    "arrival_date_day_of_month_ = int(input('Arrival Date: '))\n",
    "stays_in_weekend_nights_ = int(input('Nights Spent in Weekends: '))\n",
    "stays_in_week_nights_ = int(input('Nights Spent in Weekdays: '))\n",
    "meal_ = str(input('Meal: '))\n",
    "distribution_channel_ = str(input('Booking Channel: '))\n",
    "is_repeated_guest_ = int(input('Repeated Guest?: '))\n",
    "previous_cancellations_ = int(input('Number of Previous Cancellation: '))\n",
    "previous_bookings_not_canceled_ = int(input('Number of Bookings Not Cancelled: '))\n",
    "assigned_room_type_ = str(input('Room Type: '))\n",
    "booking_changes_ = int(input('Number of Booking Changes: '))\n",
    "agent_ = int(input('Agent Code: '))\n",
    "days_in_waiting_list_ = int(input('Days in Waiting List: '))\n",
    "customer_type_ = str(input('Customer Type: '))\n",
    "adr_ = float(input('Price: '))\n",
    "required_car_parking_spaces_ = int(input('Required Car Parking Spaces: '))\n",
    "total_of_special_requests_ = int(input('Number of Special Requests: '))\n",
    "total_guests_ = int(input('Number of Guests: '))\n",
    "countries_ = str(input('Country of Origin: '))\n",
    "\n",
    "\n",
    "#back-end\n",
    "df = pd.DataFrame([[hotel_, lead_time_, arrival_date_month_, arrival_date_day_of_month_, stays_in_weekend_nights_, stays_in_week_nights_,\n",
    "                   meal_, distribution_channel_, is_repeated_guest_, previous_cancellations_, previous_bookings_not_canceled_,\n",
    "                   assigned_room_type_, booking_changes_, agent_, days_in_waiting_list_, customer_type_, adr_,\n",
    "                    required_car_parking_spaces_, total_of_special_requests_, total_guests_, countries_]], \n",
    "                  columns=X_train.columns, index=[0])\n",
    "class_label = loaded_model.predict(df)\n",
    "proba = loaded_model.predict_proba(df)\n",
    "\n",
    "if proba[:,1] >= 0.590833:\n",
    "    print('The Booking is likely to be CANCELLED')\n",
    "else:\n",
    "    print('The Guest is likely to COME')\n",
    "    \n",
    "print(f'Probability to cancel: {loaded_model.predict_proba(sample_data)[:,1]}')"
   ]
  },
  {
   "cell_type": "code",
   "execution_count": 183,
   "metadata": {},
   "outputs": [
    {
     "data": {
      "text/plain": [
       "hotel                             Resort Hotel\n",
       "is_canceled                                  0\n",
       "lead_time                                   91\n",
       "arrival_date_month                        July\n",
       "arrival_date_day_of_month                   10\n",
       "stays_in_weekend_nights                      0\n",
       "stays_in_week_nights                         2\n",
       "meal                                        BB\n",
       "distribution_channel                     TA/TO\n",
       "is_repeated_guest                            0\n",
       "previous_cancellations                       0\n",
       "previous_bookings_not_canceled               0\n",
       "assigned_room_type                           A\n",
       "booking_changes                              0\n",
       "agent                                      240\n",
       "days_in_waiting_list                         0\n",
       "customer_type                        Transient\n",
       "adr                                       73.8\n",
       "required_car_parking_spaces                  0\n",
       "total_of_special_requests                    1\n",
       "total_guests                                 2\n",
       "countries                                  PRT\n",
       "Name: 255, dtype: object"
      ]
     },
     "execution_count": 183,
     "metadata": {},
     "output_type": "execute_result"
    }
   ],
   "source": [
    "df_modeling.iloc[255]"
   ]
  },
  {
   "cell_type": "code",
   "execution_count": 187,
   "metadata": {
    "ExecuteTime": {
     "end_time": "2020-06-15T06:21:11.905083Z",
     "start_time": "2020-06-15T06:21:11.883964Z"
    }
   },
   "outputs": [],
   "source": [
    "sample_data = pd.DataFrame({\n",
    "    'hotel': ['Resort Hotel'],\n",
    "    'lead_time': [91],\n",
    "    'arrival_date_month':['July'],\n",
    "    'arrival_date_day_of_month':[10],\n",
    "    'stays_in_weekend_nights':[0],\n",
    "    'stays_in_week_nights':[2],\n",
    "    'meal': ['BB'],\n",
    "    'distribution_channel':['TA/TO'],\n",
    "    'is_repeated_guest': [0],\n",
    "    'previous_cancellations': [0],\n",
    "    'previous_bookings_not_canceled': [0],\n",
    "    'assigned_room_type': ['A'],\n",
    "    'booking_changes': [0],\n",
    "    'agent': [240],\n",
    "    'days_in_waiting_list': [0],\n",
    "    'customer_type': ['Transient'],\n",
    "    'adr': [73.8],\n",
    "    'required_car_parking_spaces': [0],\n",
    "    'total_of_special_requests': [1],\n",
    "    'total_guests': [2],\n",
    "    'countries': ['PRT'],\n",
    "})"
   ]
  },
  {
   "cell_type": "code",
   "execution_count": 188,
   "metadata": {},
   "outputs": [
    {
     "data": {
      "text/plain": [
       "array([0], dtype=int64)"
      ]
     },
     "execution_count": 188,
     "metadata": {},
     "output_type": "execute_result"
    }
   ],
   "source": [
    "loaded_model.predict(sample_data)"
   ]
  },
  {
   "cell_type": "code",
   "execution_count": 192,
   "metadata": {},
   "outputs": [
    {
     "name": "stdout",
     "output_type": "stream",
     "text": [
      "The Guest is likely to COME\n",
      "Probability to cancel: [0.11]\n"
     ]
    }
   ],
   "source": [
    "proba = loaded_model.predict_proba(sample_data)[:,1]\n",
    "\n",
    "if proba >= 0.590833:\n",
    "    print('The Booking is likely to be CANCELLED')\n",
    "else:\n",
    "    print('The Guest is likely to COME')\n",
    "    \n",
    "print(f'Probability to cancel: {loaded_model.predict_proba(sample_data)[:,1]}')"
   ]
  },
  {
   "cell_type": "code",
   "execution_count": 197,
   "metadata": {},
   "outputs": [
    {
     "data": {
      "text/plain": [
       "hotel                             Resort Hotel\n",
       "is_canceled                                  1\n",
       "lead_time                                   68\n",
       "arrival_date_month                      August\n",
       "arrival_date_day_of_month                    9\n",
       "stays_in_weekend_nights                      2\n",
       "stays_in_week_nights                         5\n",
       "meal                                        BB\n",
       "distribution_channel                     TA/TO\n",
       "is_repeated_guest                            0\n",
       "previous_cancellations                       0\n",
       "previous_bookings_not_canceled               0\n",
       "assigned_room_type                           G\n",
       "booking_changes                              0\n",
       "agent                                      240\n",
       "days_in_waiting_list                         0\n",
       "customer_type                        Transient\n",
       "adr                                        214\n",
       "required_car_parking_spaces                  0\n",
       "total_of_special_requests                    0\n",
       "total_guests                                 4\n",
       "countries                                  PRT\n",
       "Name: 1000, dtype: object"
      ]
     },
     "execution_count": 197,
     "metadata": {},
     "output_type": "execute_result"
    }
   ],
   "source": [
    "df_modeling.iloc[1000]"
   ]
  },
  {
   "cell_type": "code",
   "execution_count": 198,
   "metadata": {
    "ExecuteTime": {
     "end_time": "2020-06-15T06:21:11.905083Z",
     "start_time": "2020-06-15T06:21:11.883964Z"
    }
   },
   "outputs": [],
   "source": [
    "sample_data = pd.DataFrame({\n",
    "    'hotel': ['Resort Hotel'],\n",
    "    'lead_time': [68],\n",
    "    'arrival_date_month':['August'],\n",
    "    'arrival_date_day_of_month':[9],\n",
    "    'stays_in_weekend_nights':[2],\n",
    "    'stays_in_week_nights':[5],\n",
    "    'meal': ['BB'],\n",
    "    'distribution_channel':['TA/TO'],\n",
    "    'is_repeated_guest': [0],\n",
    "    'previous_cancellations': [0],\n",
    "    'previous_bookings_not_canceled': [0],\n",
    "    'assigned_room_type': ['G'],\n",
    "    'booking_changes': [0],\n",
    "    'agent': [240],\n",
    "    'days_in_waiting_list': [0],\n",
    "    'customer_type': ['Transient'],\n",
    "    'adr': [214],\n",
    "    'required_car_parking_spaces': [0],\n",
    "    'total_of_special_requests': [0],\n",
    "    'total_guests': [4],\n",
    "    'countries': ['PRT'],\n",
    "})"
   ]
  },
  {
   "cell_type": "code",
   "execution_count": 199,
   "metadata": {},
   "outputs": [
    {
     "name": "stdout",
     "output_type": "stream",
     "text": [
      "The Booking is likely to be CANCELLED\n",
      "Probability to cancel: [0.87]\n"
     ]
    }
   ],
   "source": [
    "proba = loaded_model.predict_proba(sample_data)[:,1]\n",
    "\n",
    "if proba >= 0.590833:\n",
    "    print('The Booking is likely to be CANCELLED')\n",
    "else:\n",
    "    print('The Guest is likely to COME')\n",
    "    \n",
    "print(f'Probability to cancel: {loaded_model.predict_proba(sample_data)[:,1]}')"
   ]
  },
  {
   "cell_type": "code",
   "execution_count": null,
   "metadata": {},
   "outputs": [],
   "source": []
  }
 ],
 "metadata": {
  "kernelspec": {
   "display_name": "Python 3",
   "language": "python",
   "name": "python3"
  },
  "language_info": {
   "codemirror_mode": {
    "name": "ipython",
    "version": 3
   },
   "file_extension": ".py",
   "mimetype": "text/x-python",
   "name": "python",
   "nbconvert_exporter": "python",
   "pygments_lexer": "ipython3",
   "version": "3.7.6"
  }
 },
 "nbformat": 4,
 "nbformat_minor": 4
}
